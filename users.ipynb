{
 "cells": [
  {
   "cell_type": "code",
   "execution_count": 1,
   "metadata": {},
   "outputs": [],
   "source": [
    "import requests\n",
    "import pandas as pd\n",
    "import time\n",
    "\n",
    "import warnings\n",
    "warnings.filterwarnings('ignore')\n",
    "\n",
    "\n",
    "api_key = ''"
   ]
  },
  {
   "cell_type": "markdown",
   "metadata": {},
   "source": [
    "## 서버정보"
   ]
  },
  {
   "cell_type": "code",
   "execution_count": 2,
   "metadata": {},
   "outputs": [],
   "source": [
    "def df_search_servers():\n",
    "    url = f'https://api.neople.co.kr/df/servers?apikey={api_key}'\n",
    "\n",
    "    return requests.get(url)"
   ]
  },
  {
   "cell_type": "code",
   "execution_count": null,
   "metadata": {},
   "outputs": [],
   "source": [
    "a = df_search_servers()\n"
   ]
  },
  {
   "cell_type": "code",
   "execution_count": null,
   "metadata": {},
   "outputs": [],
   "source": [
    "server = a.json()['rows']"
   ]
  },
  {
   "cell_type": "code",
   "execution_count": null,
   "metadata": {},
   "outputs": [],
   "source": [
    "serversdic={}\n",
    "serverlist=[]\n",
    "for i in range(len(server)):\n",
    "\n",
    "    serverlist.append(server[i][\"serverId\"])\n",
    "    serversdic[server[i][\"serverName\"]] = server[i][\"serverId\"]"
   ]
  },
  {
   "cell_type": "code",
   "execution_count": null,
   "metadata": {},
   "outputs": [],
   "source": [
    "serverlist"
   ]
  },
  {
   "cell_type": "code",
   "execution_count": null,
   "metadata": {},
   "outputs": [],
   "source": [
    "serversdic"
   ]
  },
  {
   "cell_type": "markdown",
   "metadata": {},
   "source": [
    "## 유저 검색(캐릭터 명성 이용)"
   ]
  },
  {
   "cell_type": "markdown",
   "metadata": {},
   "source": [
    "### 1. 서버 별로 검색"
   ]
  },
  {
   "cell_type": "code",
   "execution_count": null,
   "metadata": {},
   "outputs": [],
   "source": [
    "def df_search_user(serverId='all', minFame='', maxFame='', jobId='', jobGrowId='', isAllJobGrow='', isBuff='', limit=200):\n",
    "    if limit >200:\n",
    "        limit = 200\n",
    "\n",
    "    url = f'https://api.neople.co.kr/df/servers/{serverId}/characters-fame'\n",
    "    params = {\n",
    "        'apikey' : api_key,\n",
    "        'limit' : limit\n",
    "    }\n",
    "\n",
    "    if maxFame != '':\n",
    "        params['maxFame'] = maxFame\n",
    "    # 최대 2,000 범위내에서만 검색 가능합니다\n",
    "    # ※ minFame : 50000, maxFame : 60000 요청 시 minFame : 58000, maxFame : 60000으로 변경되어 검색 결과 제공\n",
    "    if minFame != '':\n",
    "        params['minFame'] = minFame\n",
    "\n",
    "    if jobId != '':\n",
    "        params['jobId'] = jobId\n",
    "    if minFame != '':\n",
    "        params['jobGrowId'] = jobGrowId\n",
    "    if minFame != '':\n",
    "        params['isAllJobGrow'] = isAllJobGrow\n",
    "    if minFame != '':\n",
    "        params['isBuff'] = isBuff\n",
    "\n",
    "    return requests.get(url, params=params)"
   ]
  },
  {
   "cell_type": "code",
   "execution_count": null,
   "metadata": {},
   "outputs": [],
   "source": [
    "len(serverlist)"
   ]
  },
  {
   "cell_type": "code",
   "execution_count": null,
   "metadata": {},
   "outputs": [],
   "source": [
    "userperserver=[]\n",
    "for x in serverlist:\n",
    "    a = df_search_user(serverId=\"all\", minFame='', maxFame='', jobId='', jobGrowId='', isAllJobGrow='', isBuff='', limit=200)\n",
    "    user = a.json()['rows']\n",
    "    userperserver.append(user)\n",
    "    \n"
   ]
  },
  {
   "cell_type": "code",
   "execution_count": null,
   "metadata": {},
   "outputs": [],
   "source": [
    "col_name = list(userperserver[0][0].keys())"
   ]
  },
  {
   "cell_type": "code",
   "execution_count": null,
   "metadata": {},
   "outputs": [],
   "source": [
    "col_name = list(userperserver[0][0].keys())"
   ]
  },
  {
   "cell_type": "code",
   "execution_count": null,
   "metadata": {},
   "outputs": [],
   "source": [
    "len(userperserver)"
   ]
  },
  {
   "cell_type": "code",
   "execution_count": null,
   "metadata": {},
   "outputs": [],
   "source": [
    "for i in range(8):\n",
    "    print(userperserver[i][-1][\"fame\"]) "
   ]
  },
  {
   "cell_type": "code",
   "execution_count": null,
   "metadata": {},
   "outputs": [],
   "source": [
    "for i in range(len(userperserver)):\n",
    "    for j in range(len(userperserver[i])):\n",
    "        print(userperserver[i][j])\n",
    "        temp = pd.DataFrame(userperserver[i][j],index=[0])\n",
    "        \n",
    "        print(temp)\n",
    "        df = pd.concat([df,temp])\n",
    "df"
   ]
  },
  {
   "cell_type": "code",
   "execution_count": null,
   "metadata": {},
   "outputs": [],
   "source": [
    "df.shape[0]"
   ]
  },
  {
   "cell_type": "code",
   "execution_count": null,
   "metadata": {},
   "outputs": [],
   "source": [
    "num = 0\n",
    "for i in range(len(userperserver)):\n",
    "    print(serverlist[i])\n",
    "    print(\"_________________________\")\n",
    "    print(len(userperserver[i]))\n",
    "    print(\"_________________________\")\n",
    "    num += len(userperserver[i])\n",
    "print(num)"
   ]
  },
  {
   "cell_type": "markdown",
   "metadata": {},
   "source": [
    "### 2. 전 서버에서 검색"
   ]
  }
 ],
 "metadata": {
  "kernelspec": {
   "display_name": "Python 3",
   "language": "python",
   "name": "python3"
  },
  "language_info": {
   "codemirror_mode": {
    "name": "ipython",
    "version": 3
   },
   "file_extension": ".py",
   "mimetype": "text/x-python",
   "name": "python",
   "nbconvert_exporter": "python",
   "pygments_lexer": "ipython3",
   "version": "3.10.11"
  }
 },
 "nbformat": 4,
 "nbformat_minor": 2
}
