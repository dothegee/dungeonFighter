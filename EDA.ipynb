{
 "cells": [
  {
   "cell_type": "code",
   "execution_count": 84,
   "metadata": {},
   "outputs": [],
   "source": [
    "import pandas as pd\n",
    "import numpy as np\n",
    "import matplotlib.pyplot as plt\n",
    "import seaborn as sns\n",
    "from tqdm import tqdm"
   ]
  },
  {
   "cell_type": "markdown",
   "metadata": {},
   "source": [
    "분석 전 게임 정보\n",
    "- 경매장에서 거래되는 아이템들이 다른 서버 유저와 거래 가능 -> 서버 별 df 분리 X\n",
    "- 직업 별 착용 아이템이 다름 -> 직업 별로 df 분리"
   ]
  },
  {
   "cell_type": "markdown",
   "metadata": {},
   "source": [
    "## 유저 정보 데이터 전처리\n",
    "- 'slotId'\n",
    "- 'slotName'\n",
    "- 'itemId'\n",
    "- 'itemName'\n",
    "- 'clone_itemId'\n",
    "- 'clone_itemName'\n",
    "\n",
    "\n",
    "12개의 파츠 속성중 7개 속성 선정</br>\n"
   ]
  },
  {
   "cell_type": "markdown",
   "metadata": {},
   "source": [
    "### 데이터 불러오기"
   ]
  },
  {
   "cell_type": "code",
   "execution_count": 66,
   "metadata": {},
   "outputs": [
    {
     "name": "stderr",
     "output_type": "stream",
     "text": [
      "C:\\Users\\Administrator\\AppData\\Local\\Temp\\ipykernel_9896\\388457219.py:1: DtypeWarning: Columns (124,125,219,220) have mixed types. Specify dtype option on import or set low_memory=False.\n",
      "  output1 = pd.read_csv(\"output1.csv\")\n",
      "C:\\Users\\Administrator\\AppData\\Local\\Temp\\ipykernel_9896\\388457219.py:3: DtypeWarning: Columns (124,125,148,149,219,220) have mixed types. Specify dtype option on import or set low_memory=False.\n",
      "  output3 =pd.read_csv(\"output3.csv\")\n"
     ]
    }
   ],
   "source": [
    "output1 = pd.read_csv(\"output1.csv\")\n",
    "output2 =pd.read_csv(\"output2.csv\")\n",
    "output3 =pd.read_csv(\"output3.csv\")\n",
    "\n",
    "output = pd.concat([output1,output2,output3],ignore_index=True)\n",
    "\n",
    "del output1,output2,output3"
   ]
  },
  {
   "cell_type": "code",
   "execution_count": 67,
   "metadata": {},
   "outputs": [],
   "source": [
    "user1 = pd.read_csv(\"user1.csv\")\n",
    "user2 =pd.read_csv(\"user2.csv\")\n",
    "user3 =pd.read_csv(\"user3.csv\")\n",
    "\n",
    "user = pd.concat([user1,user2,user3],ignore_index=True)\n",
    "del user1,user2,user3"
   ]
  },
  {
   "cell_type": "code",
   "execution_count": 68,
   "metadata": {},
   "outputs": [
    {
     "data": {
      "text/html": [
       "<div>\n",
       "<style scoped>\n",
       "    .dataframe tbody tr th:only-of-type {\n",
       "        vertical-align: middle;\n",
       "    }\n",
       "\n",
       "    .dataframe tbody tr th {\n",
       "        vertical-align: top;\n",
       "    }\n",
       "\n",
       "    .dataframe thead th {\n",
       "        text-align: right;\n",
       "    }\n",
       "</style>\n",
       "<table border=\"1\" class=\"dataframe\">\n",
       "  <thead>\n",
       "    <tr style=\"text-align: right;\">\n",
       "      <th></th>\n",
       "      <th>characterId</th>\n",
       "      <th>fame</th>\n",
       "    </tr>\n",
       "  </thead>\n",
       "  <tbody>\n",
       "    <tr>\n",
       "      <th>0</th>\n",
       "      <td>150a23219a59e086e36db59028c06a50</td>\n",
       "      <td>66993</td>\n",
       "    </tr>\n",
       "    <tr>\n",
       "      <th>1</th>\n",
       "      <td>0daa8c49cae531262f966dd637008e30</td>\n",
       "      <td>66787</td>\n",
       "    </tr>\n",
       "    <tr>\n",
       "      <th>2</th>\n",
       "      <td>103e5c925e8a698e89abd4d68cce1d0e</td>\n",
       "      <td>66702</td>\n",
       "    </tr>\n",
       "    <tr>\n",
       "      <th>3</th>\n",
       "      <td>3ba38c77f2868f34d910e362d0f4cae1</td>\n",
       "      <td>66666</td>\n",
       "    </tr>\n",
       "    <tr>\n",
       "      <th>4</th>\n",
       "      <td>79a62ecc85e602ae7f13b79b766aa2ee</td>\n",
       "      <td>66660</td>\n",
       "    </tr>\n",
       "    <tr>\n",
       "      <th>...</th>\n",
       "      <td>...</td>\n",
       "      <td>...</td>\n",
       "    </tr>\n",
       "    <tr>\n",
       "      <th>90595</th>\n",
       "      <td>5c37706a64742ce164d02b06456ec3d9</td>\n",
       "      <td>60468</td>\n",
       "    </tr>\n",
       "    <tr>\n",
       "      <th>90596</th>\n",
       "      <td>030f2b2ee126aec10bd0108c13b493c6</td>\n",
       "      <td>60468</td>\n",
       "    </tr>\n",
       "    <tr>\n",
       "      <th>90597</th>\n",
       "      <td>c51246ee43ee7645995bdf8f2ee1a26f</td>\n",
       "      <td>60468</td>\n",
       "    </tr>\n",
       "    <tr>\n",
       "      <th>90598</th>\n",
       "      <td>9c068b798696f994d39b14a0840abb10</td>\n",
       "      <td>60468</td>\n",
       "    </tr>\n",
       "    <tr>\n",
       "      <th>90599</th>\n",
       "      <td>cf4ac67a4cacec7f53a12b5115b48887</td>\n",
       "      <td>60468</td>\n",
       "    </tr>\n",
       "  </tbody>\n",
       "</table>\n",
       "<p>90600 rows × 2 columns</p>\n",
       "</div>"
      ],
      "text/plain": [
       "                            characterId   fame\n",
       "0      150a23219a59e086e36db59028c06a50  66993\n",
       "1      0daa8c49cae531262f966dd637008e30  66787\n",
       "2      103e5c925e8a698e89abd4d68cce1d0e  66702\n",
       "3      3ba38c77f2868f34d910e362d0f4cae1  66666\n",
       "4      79a62ecc85e602ae7f13b79b766aa2ee  66660\n",
       "...                                 ...    ...\n",
       "90595  5c37706a64742ce164d02b06456ec3d9  60468\n",
       "90596  030f2b2ee126aec10bd0108c13b493c6  60468\n",
       "90597  c51246ee43ee7645995bdf8f2ee1a26f  60468\n",
       "90598  9c068b798696f994d39b14a0840abb10  60468\n",
       "90599  cf4ac67a4cacec7f53a12b5115b48887  60468\n",
       "\n",
       "[90600 rows x 2 columns]"
      ]
     },
     "execution_count": 68,
     "metadata": {},
     "output_type": "execute_result"
    }
   ],
   "source": [
    "user = user[['characterId','fame']]\n",
    "user"
   ]
  },
  {
   "cell_type": "code",
   "execution_count": 69,
   "metadata": {},
   "outputs": [],
   "source": [
    "data = pd.merge(output, user, how = 'left')"
   ]
  },
  {
   "cell_type": "code",
   "execution_count": 70,
   "metadata": {},
   "outputs": [
    {
     "data": {
      "text/plain": [
       "2"
      ]
     },
     "execution_count": 70,
     "metadata": {},
     "output_type": "execute_result"
    }
   ],
   "source": [
    "data['fame'].isnull().sum()"
   ]
  },
  {
   "cell_type": "code",
   "execution_count": 71,
   "metadata": {},
   "outputs": [
    {
     "data": {
      "text/html": [
       "<div>\n",
       "<style scoped>\n",
       "    .dataframe tbody tr th:only-of-type {\n",
       "        vertical-align: middle;\n",
       "    }\n",
       "\n",
       "    .dataframe tbody tr th {\n",
       "        vertical-align: top;\n",
       "    }\n",
       "\n",
       "    .dataframe thead th {\n",
       "        text-align: right;\n",
       "    }\n",
       "</style>\n",
       "<table border=\"1\" class=\"dataframe\">\n",
       "  <thead>\n",
       "    <tr style=\"text-align: right;\">\n",
       "      <th></th>\n",
       "      <th>Unnamed: 0</th>\n",
       "      <th>characterId</th>\n",
       "      <th>characterName</th>\n",
       "      <th>level</th>\n",
       "      <th>jobId</th>\n",
       "      <th>jobGrowId</th>\n",
       "      <th>jobName</th>\n",
       "      <th>jobGrowName</th>\n",
       "      <th>adventureName</th>\n",
       "      <th>guildId</th>\n",
       "      <th>...</th>\n",
       "      <th>SKIN__avatar_clone_random_itemName</th>\n",
       "      <th>SKIN__avatar_clone_random_optionAbility</th>\n",
       "      <th>SKIN__avatar_clone_random_emblems_slotNo</th>\n",
       "      <th>SKIN__avatar_clone_random_emblems_slotColor</th>\n",
       "      <th>SKIN__avatar_clone_random_emblems_itemName</th>\n",
       "      <th>SKIN__avatar_clone_random_emblems_itemRarity</th>\n",
       "      <th>_error_status</th>\n",
       "      <th>_error_code</th>\n",
       "      <th>_error_message</th>\n",
       "      <th>fame</th>\n",
       "    </tr>\n",
       "  </thead>\n",
       "  <tbody>\n",
       "    <tr>\n",
       "      <th>0</th>\n",
       "      <td>0</td>\n",
       "      <td>150a23219a59e086e36db59028c06a50</td>\n",
       "      <td>헤롱카테</td>\n",
       "      <td>110.0</td>\n",
       "      <td>3909d0b188e9c95311399f776e331da5</td>\n",
       "      <td>92da05ec93fb43406e193ffb9a2a629b</td>\n",
       "      <td>마법사(여)</td>\n",
       "      <td>眞 인챈트리스</td>\n",
       "      <td>자색나비</td>\n",
       "      <td>ab001e5cfdc5b0669ca7219cc565c457</td>\n",
       "      <td>...</td>\n",
       "      <td>NaN</td>\n",
       "      <td>NaN</td>\n",
       "      <td>NaN</td>\n",
       "      <td>NaN</td>\n",
       "      <td>NaN</td>\n",
       "      <td>NaN</td>\n",
       "      <td>NaN</td>\n",
       "      <td>NaN</td>\n",
       "      <td>NaN</td>\n",
       "      <td>66993.0</td>\n",
       "    </tr>\n",
       "    <tr>\n",
       "      <th>1</th>\n",
       "      <td>1</td>\n",
       "      <td>0daa8c49cae531262f966dd637008e30</td>\n",
       "      <td>민트크림소스</td>\n",
       "      <td>110.0</td>\n",
       "      <td>3909d0b188e9c95311399f776e331da5</td>\n",
       "      <td>618326026de1a1f1cfba5dbd0b8396e7</td>\n",
       "      <td>마법사(여)</td>\n",
       "      <td>眞 소환사</td>\n",
       "      <td>민초국밥</td>\n",
       "      <td>9f0b4ac443f5712e73eb6bcccad9717d</td>\n",
       "      <td>...</td>\n",
       "      <td>NaN</td>\n",
       "      <td>NaN</td>\n",
       "      <td>NaN</td>\n",
       "      <td>NaN</td>\n",
       "      <td>NaN</td>\n",
       "      <td>NaN</td>\n",
       "      <td>NaN</td>\n",
       "      <td>NaN</td>\n",
       "      <td>NaN</td>\n",
       "      <td>66787.0</td>\n",
       "    </tr>\n",
       "    <tr>\n",
       "      <th>2</th>\n",
       "      <td>2</td>\n",
       "      <td>103e5c925e8a698e89abd4d68cce1d0e</td>\n",
       "      <td>스팅거타이거</td>\n",
       "      <td>110.0</td>\n",
       "      <td>afdf3b989339de478e85b614d274d1ef</td>\n",
       "      <td>618326026de1a1f1cfba5dbd0b8396e7</td>\n",
       "      <td>거너(남)</td>\n",
       "      <td>眞 런처</td>\n",
       "      <td>천계특수화기부대</td>\n",
       "      <td>a79e1391ef2cd5e62229cfb78138d22e</td>\n",
       "      <td>...</td>\n",
       "      <td>NaN</td>\n",
       "      <td>NaN</td>\n",
       "      <td>NaN</td>\n",
       "      <td>NaN</td>\n",
       "      <td>NaN</td>\n",
       "      <td>NaN</td>\n",
       "      <td>NaN</td>\n",
       "      <td>NaN</td>\n",
       "      <td>NaN</td>\n",
       "      <td>66702.0</td>\n",
       "    </tr>\n",
       "    <tr>\n",
       "      <th>3</th>\n",
       "      <td>3</td>\n",
       "      <td>3ba38c77f2868f34d910e362d0f4cae1</td>\n",
       "      <td>프라디지</td>\n",
       "      <td>110.0</td>\n",
       "      <td>41f1cdc2ff58bb5fdc287be0db2a8df3</td>\n",
       "      <td>6d459bc74ba73ee4fe5cdc4655400193</td>\n",
       "      <td>귀검사(남)</td>\n",
       "      <td>眞 버서커</td>\n",
       "      <td>피쟁이</td>\n",
       "      <td>c19a3bbfb1340959f183d36db76c89bb</td>\n",
       "      <td>...</td>\n",
       "      <td>NaN</td>\n",
       "      <td>NaN</td>\n",
       "      <td>NaN</td>\n",
       "      <td>NaN</td>\n",
       "      <td>NaN</td>\n",
       "      <td>NaN</td>\n",
       "      <td>NaN</td>\n",
       "      <td>NaN</td>\n",
       "      <td>NaN</td>\n",
       "      <td>66666.0</td>\n",
       "    </tr>\n",
       "    <tr>\n",
       "      <th>4</th>\n",
       "      <td>4</td>\n",
       "      <td>79a62ecc85e602ae7f13b79b766aa2ee</td>\n",
       "      <td>금요일야근</td>\n",
       "      <td>110.0</td>\n",
       "      <td>0c1b401bb09241570d364420b3ba3fd7</td>\n",
       "      <td>37495b941da3b1661bc900e68ef3b2c6</td>\n",
       "      <td>프리스트(여)</td>\n",
       "      <td>眞 크루세이더</td>\n",
       "      <td>13증</td>\n",
       "      <td>e37fa9b710815cb231c240a3dc93fbc1</td>\n",
       "      <td>...</td>\n",
       "      <td>NaN</td>\n",
       "      <td>NaN</td>\n",
       "      <td>NaN</td>\n",
       "      <td>NaN</td>\n",
       "      <td>NaN</td>\n",
       "      <td>NaN</td>\n",
       "      <td>NaN</td>\n",
       "      <td>NaN</td>\n",
       "      <td>NaN</td>\n",
       "      <td>66660.0</td>\n",
       "    </tr>\n",
       "    <tr>\n",
       "      <th>...</th>\n",
       "      <td>...</td>\n",
       "      <td>...</td>\n",
       "      <td>...</td>\n",
       "      <td>...</td>\n",
       "      <td>...</td>\n",
       "      <td>...</td>\n",
       "      <td>...</td>\n",
       "      <td>...</td>\n",
       "      <td>...</td>\n",
       "      <td>...</td>\n",
       "      <td>...</td>\n",
       "      <td>...</td>\n",
       "      <td>...</td>\n",
       "      <td>...</td>\n",
       "      <td>...</td>\n",
       "      <td>...</td>\n",
       "      <td>...</td>\n",
       "      <td>...</td>\n",
       "      <td>...</td>\n",
       "      <td>...</td>\n",
       "      <td>...</td>\n",
       "    </tr>\n",
       "    <tr>\n",
       "      <th>108717</th>\n",
       "      <td>30195</td>\n",
       "      <td>5c37706a64742ce164d02b06456ec3d9</td>\n",
       "      <td>윤아에용</td>\n",
       "      <td>110.0</td>\n",
       "      <td>a7a059ebe9e6054c0644b40ef316d6e9</td>\n",
       "      <td>618326026de1a1f1cfba5dbd0b8396e7</td>\n",
       "      <td>격투가(여)</td>\n",
       "      <td>眞 스트라이커</td>\n",
       "      <td>정윤아에요</td>\n",
       "      <td>0a21d7379c21af0039c47ca04ec75c35</td>\n",
       "      <td>...</td>\n",
       "      <td>NaN</td>\n",
       "      <td>NaN</td>\n",
       "      <td>NaN</td>\n",
       "      <td>NaN</td>\n",
       "      <td>NaN</td>\n",
       "      <td>NaN</td>\n",
       "      <td>NaN</td>\n",
       "      <td>NaN</td>\n",
       "      <td>NaN</td>\n",
       "      <td>60468.0</td>\n",
       "    </tr>\n",
       "    <tr>\n",
       "      <th>108718</th>\n",
       "      <td>30196</td>\n",
       "      <td>030f2b2ee126aec10bd0108c13b493c6</td>\n",
       "      <td>잿빛의시프</td>\n",
       "      <td>110.0</td>\n",
       "      <td>41f1cdc2ff58bb5fdc287be0db2a8df3</td>\n",
       "      <td>37495b941da3b1661bc900e68ef3b2c6</td>\n",
       "      <td>귀검사(남)</td>\n",
       "      <td>眞 웨펀마스터</td>\n",
       "      <td>그림쟁이</td>\n",
       "      <td>9d72e476fb1dc1e50ae002712cd8c67e</td>\n",
       "      <td>...</td>\n",
       "      <td>NaN</td>\n",
       "      <td>NaN</td>\n",
       "      <td>NaN</td>\n",
       "      <td>NaN</td>\n",
       "      <td>NaN</td>\n",
       "      <td>NaN</td>\n",
       "      <td>NaN</td>\n",
       "      <td>NaN</td>\n",
       "      <td>NaN</td>\n",
       "      <td>60468.0</td>\n",
       "    </tr>\n",
       "    <tr>\n",
       "      <th>108719</th>\n",
       "      <td>30197</td>\n",
       "      <td>c51246ee43ee7645995bdf8f2ee1a26f</td>\n",
       "      <td>저주거미</td>\n",
       "      <td>110.0</td>\n",
       "      <td>3909d0b188e9c95311399f776e331da5</td>\n",
       "      <td>92da05ec93fb43406e193ffb9a2a629b</td>\n",
       "      <td>마법사(여)</td>\n",
       "      <td>眞 인챈트리스</td>\n",
       "      <td>숲속거미</td>\n",
       "      <td>c1909e07988d3fc6384e8dfa811bb0a0</td>\n",
       "      <td>...</td>\n",
       "      <td>NaN</td>\n",
       "      <td>NaN</td>\n",
       "      <td>NaN</td>\n",
       "      <td>NaN</td>\n",
       "      <td>NaN</td>\n",
       "      <td>NaN</td>\n",
       "      <td>NaN</td>\n",
       "      <td>NaN</td>\n",
       "      <td>NaN</td>\n",
       "      <td>60468.0</td>\n",
       "    </tr>\n",
       "    <tr>\n",
       "      <th>108720</th>\n",
       "      <td>30198</td>\n",
       "      <td>9c068b798696f994d39b14a0840abb10</td>\n",
       "      <td>찌뮤</td>\n",
       "      <td>110.0</td>\n",
       "      <td>b9cb48777665de22c006fabaf9a560b3</td>\n",
       "      <td>37495b941da3b1661bc900e68ef3b2c6</td>\n",
       "      <td>아처</td>\n",
       "      <td>眞 뮤즈</td>\n",
       "      <td>쪼꼬매져쪄</td>\n",
       "      <td>88e23efa4cff2f1e563b9e89711ab26e</td>\n",
       "      <td>...</td>\n",
       "      <td>NaN</td>\n",
       "      <td>NaN</td>\n",
       "      <td>NaN</td>\n",
       "      <td>NaN</td>\n",
       "      <td>NaN</td>\n",
       "      <td>NaN</td>\n",
       "      <td>NaN</td>\n",
       "      <td>NaN</td>\n",
       "      <td>NaN</td>\n",
       "      <td>60468.0</td>\n",
       "    </tr>\n",
       "    <tr>\n",
       "      <th>108721</th>\n",
       "      <td>30199</td>\n",
       "      <td>cf4ac67a4cacec7f53a12b5115b48887</td>\n",
       "      <td>찬가망둥이</td>\n",
       "      <td>110.0</td>\n",
       "      <td>0c1b401bb09241570d364420b3ba3fd7</td>\n",
       "      <td>37495b941da3b1661bc900e68ef3b2c6</td>\n",
       "      <td>프리스트(여)</td>\n",
       "      <td>眞 크루세이더</td>\n",
       "      <td>침식체</td>\n",
       "      <td>10b1477a7f4489bf60dfd9424d77ab82</td>\n",
       "      <td>...</td>\n",
       "      <td>NaN</td>\n",
       "      <td>NaN</td>\n",
       "      <td>NaN</td>\n",
       "      <td>NaN</td>\n",
       "      <td>NaN</td>\n",
       "      <td>NaN</td>\n",
       "      <td>NaN</td>\n",
       "      <td>NaN</td>\n",
       "      <td>NaN</td>\n",
       "      <td>60468.0</td>\n",
       "    </tr>\n",
       "  </tbody>\n",
       "</table>\n",
       "<p>108722 rows × 222 columns</p>\n",
       "</div>"
      ],
      "text/plain": [
       "        Unnamed: 0                       characterId characterName  level  \\\n",
       "0                0  150a23219a59e086e36db59028c06a50          헤롱카테  110.0   \n",
       "1                1  0daa8c49cae531262f966dd637008e30        민트크림소스  110.0   \n",
       "2                2  103e5c925e8a698e89abd4d68cce1d0e        스팅거타이거  110.0   \n",
       "3                3  3ba38c77f2868f34d910e362d0f4cae1          프라디지  110.0   \n",
       "4                4  79a62ecc85e602ae7f13b79b766aa2ee         금요일야근  110.0   \n",
       "...            ...                               ...           ...    ...   \n",
       "108717       30195  5c37706a64742ce164d02b06456ec3d9          윤아에용  110.0   \n",
       "108718       30196  030f2b2ee126aec10bd0108c13b493c6         잿빛의시프  110.0   \n",
       "108719       30197  c51246ee43ee7645995bdf8f2ee1a26f          저주거미  110.0   \n",
       "108720       30198  9c068b798696f994d39b14a0840abb10            찌뮤  110.0   \n",
       "108721       30199  cf4ac67a4cacec7f53a12b5115b48887         찬가망둥이  110.0   \n",
       "\n",
       "                                   jobId                         jobGrowId  \\\n",
       "0       3909d0b188e9c95311399f776e331da5  92da05ec93fb43406e193ffb9a2a629b   \n",
       "1       3909d0b188e9c95311399f776e331da5  618326026de1a1f1cfba5dbd0b8396e7   \n",
       "2       afdf3b989339de478e85b614d274d1ef  618326026de1a1f1cfba5dbd0b8396e7   \n",
       "3       41f1cdc2ff58bb5fdc287be0db2a8df3  6d459bc74ba73ee4fe5cdc4655400193   \n",
       "4       0c1b401bb09241570d364420b3ba3fd7  37495b941da3b1661bc900e68ef3b2c6   \n",
       "...                                  ...                               ...   \n",
       "108717  a7a059ebe9e6054c0644b40ef316d6e9  618326026de1a1f1cfba5dbd0b8396e7   \n",
       "108718  41f1cdc2ff58bb5fdc287be0db2a8df3  37495b941da3b1661bc900e68ef3b2c6   \n",
       "108719  3909d0b188e9c95311399f776e331da5  92da05ec93fb43406e193ffb9a2a629b   \n",
       "108720  b9cb48777665de22c006fabaf9a560b3  37495b941da3b1661bc900e68ef3b2c6   \n",
       "108721  0c1b401bb09241570d364420b3ba3fd7  37495b941da3b1661bc900e68ef3b2c6   \n",
       "\n",
       "        jobName jobGrowName adventureName                           guildId  \\\n",
       "0        마법사(여)     眞 인챈트리스          자색나비  ab001e5cfdc5b0669ca7219cc565c457   \n",
       "1        마법사(여)       眞 소환사          민초국밥  9f0b4ac443f5712e73eb6bcccad9717d   \n",
       "2         거너(남)        眞 런처      천계특수화기부대  a79e1391ef2cd5e62229cfb78138d22e   \n",
       "3        귀검사(남)       眞 버서커           피쟁이  c19a3bbfb1340959f183d36db76c89bb   \n",
       "4       프리스트(여)     眞 크루세이더           13증  e37fa9b710815cb231c240a3dc93fbc1   \n",
       "...         ...         ...           ...                               ...   \n",
       "108717   격투가(여)     眞 스트라이커         정윤아에요  0a21d7379c21af0039c47ca04ec75c35   \n",
       "108718   귀검사(남)     眞 웨펀마스터          그림쟁이  9d72e476fb1dc1e50ae002712cd8c67e   \n",
       "108719   마법사(여)     眞 인챈트리스          숲속거미  c1909e07988d3fc6384e8dfa811bb0a0   \n",
       "108720       아처        眞 뮤즈         쪼꼬매져쪄  88e23efa4cff2f1e563b9e89711ab26e   \n",
       "108721  프리스트(여)     眞 크루세이더           침식체  10b1477a7f4489bf60dfd9424d77ab82   \n",
       "\n",
       "        ... SKIN__avatar_clone_random_itemName  \\\n",
       "0       ...                                NaN   \n",
       "1       ...                                NaN   \n",
       "2       ...                                NaN   \n",
       "3       ...                                NaN   \n",
       "4       ...                                NaN   \n",
       "...     ...                                ...   \n",
       "108717  ...                                NaN   \n",
       "108718  ...                                NaN   \n",
       "108719  ...                                NaN   \n",
       "108720  ...                                NaN   \n",
       "108721  ...                                NaN   \n",
       "\n",
       "       SKIN__avatar_clone_random_optionAbility  \\\n",
       "0                                          NaN   \n",
       "1                                          NaN   \n",
       "2                                          NaN   \n",
       "3                                          NaN   \n",
       "4                                          NaN   \n",
       "...                                        ...   \n",
       "108717                                     NaN   \n",
       "108718                                     NaN   \n",
       "108719                                     NaN   \n",
       "108720                                     NaN   \n",
       "108721                                     NaN   \n",
       "\n",
       "       SKIN__avatar_clone_random_emblems_slotNo  \\\n",
       "0                                           NaN   \n",
       "1                                           NaN   \n",
       "2                                           NaN   \n",
       "3                                           NaN   \n",
       "4                                           NaN   \n",
       "...                                         ...   \n",
       "108717                                      NaN   \n",
       "108718                                      NaN   \n",
       "108719                                      NaN   \n",
       "108720                                      NaN   \n",
       "108721                                      NaN   \n",
       "\n",
       "       SKIN__avatar_clone_random_emblems_slotColor  \\\n",
       "0                                              NaN   \n",
       "1                                              NaN   \n",
       "2                                              NaN   \n",
       "3                                              NaN   \n",
       "4                                              NaN   \n",
       "...                                            ...   \n",
       "108717                                         NaN   \n",
       "108718                                         NaN   \n",
       "108719                                         NaN   \n",
       "108720                                         NaN   \n",
       "108721                                         NaN   \n",
       "\n",
       "       SKIN__avatar_clone_random_emblems_itemName  \\\n",
       "0                                             NaN   \n",
       "1                                             NaN   \n",
       "2                                             NaN   \n",
       "3                                             NaN   \n",
       "4                                             NaN   \n",
       "...                                           ...   \n",
       "108717                                        NaN   \n",
       "108718                                        NaN   \n",
       "108719                                        NaN   \n",
       "108720                                        NaN   \n",
       "108721                                        NaN   \n",
       "\n",
       "       SKIN__avatar_clone_random_emblems_itemRarity _error_status _error_code  \\\n",
       "0                                               NaN           NaN         NaN   \n",
       "1                                               NaN           NaN         NaN   \n",
       "2                                               NaN           NaN         NaN   \n",
       "3                                               NaN           NaN         NaN   \n",
       "4                                               NaN           NaN         NaN   \n",
       "...                                             ...           ...         ...   \n",
       "108717                                          NaN           NaN         NaN   \n",
       "108718                                          NaN           NaN         NaN   \n",
       "108719                                          NaN           NaN         NaN   \n",
       "108720                                          NaN           NaN         NaN   \n",
       "108721                                          NaN           NaN         NaN   \n",
       "\n",
       "       _error_message     fame  \n",
       "0                 NaN  66993.0  \n",
       "1                 NaN  66787.0  \n",
       "2                 NaN  66702.0  \n",
       "3                 NaN  66666.0  \n",
       "4                 NaN  66660.0  \n",
       "...               ...      ...  \n",
       "108717            NaN  60468.0  \n",
       "108718            NaN  60468.0  \n",
       "108719            NaN  60468.0  \n",
       "108720            NaN  60468.0  \n",
       "108721            NaN  60468.0  \n",
       "\n",
       "[108722 rows x 222 columns]"
      ]
     },
     "execution_count": 71,
     "metadata": {},
     "output_type": "execute_result"
    }
   ],
   "source": [
    "data"
   ]
  },
  {
   "cell_type": "markdown",
   "metadata": {},
   "source": [
    "### 칼럼명 정의"
   ]
  },
  {
   "cell_type": "code",
   "execution_count": 5,
   "metadata": {},
   "outputs": [],
   "source": [
    "name = ['HEADGEAR'\n",
    ",'HAIR'\n",
    ",'FACE'\n",
    ",'JACKET'\n",
    ",'PANTS'\n",
    ",'SHOES'\n",
    ",'BREAST'\n",
    ",'WAIST'\n",
    ",'SKIN'\n",
    ",'AURORA'\n",
    ",'WEAPON'\n",
    ",'AURA_SKIN']"
   ]
  },
  {
   "cell_type": "code",
   "execution_count": 72,
   "metadata": {},
   "outputs": [],
   "source": [
    "columns = ['characterId',\n",
    "'characterName',\n",
    "'jobId',\n",
    "'jobName',\n",
    "'HEADGEAR__avatar_slotId',\n",
    "'HEADGEAR__avatar_slotName',\n",
    "'HEADGEAR__avatar_itemId',\n",
    "'HEADGEAR__avatar_itemName',\n",
    "\n",
    "'HEADGEAR__avatar_clone_itemId',\n",
    "'HEADGEAR__avatar_clone_itemName',\n",
    "\n",
    "'HAIR__avatar_slotId',\n",
    "'HAIR__avatar_slotName',\n",
    "'HAIR__avatar_itemId',\n",
    "'HAIR__avatar_itemName',\n",
    "\n",
    "'HAIR__avatar_clone_itemId',\n",
    "'HAIR__avatar_clone_itemName',\n",
    "\n",
    "'FACE__avatar_slotId',\n",
    "'FACE__avatar_slotName',\n",
    "'FACE__avatar_itemId',\n",
    "'FACE__avatar_itemName',\n",
    "\n",
    "'FACE__avatar_clone_itemId',\n",
    "'FACE__avatar_clone_itemName',\n",
    "\n",
    "'JACKET__avatar_slotId',\n",
    "'JACKET__avatar_slotName',\n",
    "'JACKET__avatar_itemId',\n",
    "'JACKET__avatar_itemName',\n",
    "\n",
    "'JACKET__avatar_clone_itemId',\n",
    "'JACKET__avatar_clone_itemName',\n",
    "\n",
    "'PANTS__avatar_slotId',\n",
    "'PANTS__avatar_slotName',\n",
    "'PANTS__avatar_itemId',\n",
    "'PANTS__avatar_itemName',\n",
    "\n",
    "'PANTS__avatar_clone_itemId',\n",
    "'PANTS__avatar_clone_itemName',\n",
    "\n",
    "'SHOES__avatar_slotId',\n",
    "'SHOES__avatar_slotName',\n",
    "'SHOES__avatar_itemId',\n",
    "'SHOES__avatar_itemName',\n",
    "\n",
    "'SHOES__avatar_clone_itemId',\n",
    "'SHOES__avatar_clone_itemName',\n",
    "\n",
    "'BREAST__avatar_slotId',\n",
    "'BREAST__avatar_slotName',\n",
    "'BREAST__avatar_itemId',\n",
    "'BREAST__avatar_itemName',\n",
    "\n",
    "'BREAST__avatar_clone_itemId',\n",
    "'BREAST__avatar_clone_itemName',\n",
    "\n",
    "'WAIST__avatar_slotId',\n",
    "'WAIST__avatar_slotName',\n",
    "'WAIST__avatar_itemId',\n",
    "'WAIST__avatar_itemName',\n",
    "\n",
    "'WAIST__avatar_clone_itemId',\n",
    "'WAIST__avatar_clone_itemName',\n",
    "\n",
    "'SKIN__avatar_slotId',\n",
    "'SKIN__avatar_slotName',\n",
    "'SKIN__avatar_itemId',\n",
    "'SKIN__avatar_itemName',\n",
    "\n",
    "'SKIN__avatar_clone_itemId',\n",
    "'SKIN__avatar_clone_itemName',\n",
    "\n",
    "'AURORA__avatar_slotId',\n",
    "'AURORA__avatar_slotName',\n",
    "'AURORA__avatar_itemId',\n",
    "'AURORA__avatar_itemName',\n",
    "\n",
    "'AURORA__avatar_clone_itemId',\n",
    "'AURORA__avatar_clone_itemName',\n",
    "\n",
    "'WEAPON__avatar_slotId',\n",
    "'WEAPON__avatar_slotName',\n",
    "'WEAPON__avatar_itemId',\n",
    "'WEAPON__avatar_itemName',\n",
    "\n",
    "'WEAPON__avatar_clone_itemId',\n",
    "'WEAPON__avatar_clone_itemName',\n",
    "\n",
    "'AURA_SKIN__avatar_slotId',\n",
    "'AURA_SKIN__avatar_slotName',\n",
    "'AURA_SKIN__avatar_itemId',\n",
    "'AURA_SKIN__avatar_itemName',\n",
    "\n",
    "'AURA_SKIN__avatar_clone_itemId',\n",
    "'AURA_SKIN__avatar_clone_itemName',\n",
    "'fame']"
   ]
  },
  {
   "cell_type": "markdown",
   "metadata": {},
   "source": [
    "### 칼럼명 변경"
   ]
  },
  {
   "cell_type": "code",
   "execution_count": 73,
   "metadata": {},
   "outputs": [],
   "source": [
    "df = data[columns]"
   ]
  },
  {
   "cell_type": "code",
   "execution_count": 74,
   "metadata": {},
   "outputs": [
    {
     "data": {
      "text/plain": [
       "77"
      ]
     },
     "execution_count": 74,
     "metadata": {},
     "output_type": "execute_result"
    }
   ],
   "source": [
    "len(columns)"
   ]
  },
  {
   "cell_type": "code",
   "execution_count": 75,
   "metadata": {},
   "outputs": [
    {
     "data": {
      "text/plain": [
       "77"
      ]
     },
     "execution_count": 75,
     "metadata": {},
     "output_type": "execute_result"
    }
   ],
   "source": [
    "len(df.columns)"
   ]
  },
  {
   "cell_type": "markdown",
   "metadata": {},
   "source": [
    "### 이상치 검색"
   ]
  },
  {
   "cell_type": "markdown",
   "metadata": {},
   "source": [
    "#### 1. characterName이 없는 데이터"
   ]
  },
  {
   "cell_type": "code",
   "execution_count": 76,
   "metadata": {},
   "outputs": [
    {
     "data": {
      "text/plain": [
       "2"
      ]
     },
     "execution_count": 76,
     "metadata": {},
     "output_type": "execute_result"
    }
   ],
   "source": [
    "df['characterName'].isnull().sum()"
   ]
  },
  {
   "cell_type": "code",
   "execution_count": 77,
   "metadata": {},
   "outputs": [
    {
     "name": "stdout",
     "output_type": "stream",
     "text": [
      "21356\n",
      "91838\n"
     ]
    }
   ],
   "source": [
    "for i in tqdm(range(len(df))):\n",
    "    if df['characterName'].isnull()[i]:\n",
    "        print(i)"
   ]
  },
  {
   "cell_type": "code",
   "execution_count": 78,
   "metadata": {},
   "outputs": [
    {
     "name": "stderr",
     "output_type": "stream",
     "text": [
      "C:\\Users\\Administrator\\AppData\\Local\\Temp\\ipykernel_9896\\2828580222.py:1: SettingWithCopyWarning: \n",
      "A value is trying to be set on a copy of a slice from a DataFrame\n",
      "\n",
      "See the caveats in the documentation: https://pandas.pydata.org/pandas-docs/stable/user_guide/indexing.html#returning-a-view-versus-a-copy\n",
      "  df.drop([20141,78245], axis=0, inplace=True)\n"
     ]
    }
   ],
   "source": [
    "df.drop([20141,78245], axis=0, inplace=True)"
   ]
  },
  {
   "cell_type": "markdown",
   "metadata": {},
   "source": [
    ">> api로 받아오는 과정 사이 캐릭터 삭제 추정 (2개) -> 데이터 삭제"
   ]
  },
  {
   "cell_type": "markdown",
   "metadata": {},
   "source": [
    "### 직업별 df 분리\n",
    "- '다크나이트' 와 '귀검사(남)' , '크리에이터' 와 '마법사(여)' 는 아바타를 같은 것 사용\n",
    "- 오라는 직업 구분 없음\n"
   ]
  },
  {
   "cell_type": "code",
   "execution_count": 79,
   "metadata": {},
   "outputs": [
    {
     "data": {
      "text/plain": [
       "jobName\n",
       "거너(남)       6935\n",
       "거너(여)       4631\n",
       "격투가(남)      2551\n",
       "격투가(여)      6770\n",
       "귀검사(남)     11468\n",
       "귀검사(여)     12593\n",
       "나이트         3881\n",
       "다크나이트        662\n",
       "도적          2869\n",
       "마법사(남)      2595\n",
       "마법사(여)     15458\n",
       "마창사         2089\n",
       "아처         14101\n",
       "총검사         2567\n",
       "크리에이터        332\n",
       "프리스트(남)     7298\n",
       "프리스트(여)    11918\n",
       "Name: count, dtype: int64"
      ]
     },
     "execution_count": 79,
     "metadata": {},
     "output_type": "execute_result"
    }
   ],
   "source": [
    "jobdf = df['jobName'].value_counts()\n",
    "jobdf=jobdf.sort_index()\n",
    "jobdf"
   ]
  },
  {
   "cell_type": "markdown",
   "metadata": {},
   "source": [
    "#### 직업별 분포"
   ]
  },
  {
   "cell_type": "code",
   "execution_count": 93,
   "metadata": {},
   "outputs": [
    {
     "data": {
      "image/png": "[encoded data removed]",
      "text/plain": [
       "<Figure size 1200x400 with 1 Axes>"
      ]
     },
     "metadata": {},
     "output_type": "display_data"
    }
   ],
   "source": [
    "plt.figure(figsize=(12,4))\n",
    "plt.bar(jobdf.index, jobdf.values)\n",
    "plt.rcParams['font.family'] ='Malgun Gothic'\n",
    "plt.rcParams['axes.unicode_minus'] =False\n",
    "plt.xticks(rotation=30)\n",
    "plt.show()"
   ]
  },
  {
   "cell_type": "code",
   "execution_count": 91,
   "metadata": {},
   "outputs": [
    {
     "data": {
      "text/plain": [
       "61379.73818502916"
      ]
     },
     "execution_count": 91,
     "metadata": {},
     "output_type": "execute_result"
    }
   ],
   "source": [
    "df['fame'].mean()"
   ]
  },
  {
   "cell_type": "code",
   "execution_count": 85,
   "metadata": {},
   "outputs": [
    {
     "data": {
      "text/plain": [
       "jobName\n",
       "거너(남)      61533.667051\n",
       "거너(여)      61447.459296\n",
       "격투가(남)     61469.033320\n",
       "격투가(여)     61379.764402\n",
       "귀검사(남)     61415.753052\n",
       "귀검사(여)     61382.384817\n",
       "나이트        61384.808039\n",
       "다크나이트      61507.980363\n",
       "도적         61462.259672\n",
       "마법사(남)     61432.255877\n",
       "마법사(여)     61416.615992\n",
       "마창사        61303.992341\n",
       "아처         61248.188781\n",
       "총검사        61335.764706\n",
       "크리에이터      61543.945783\n",
       "프리스트(남)    61369.106742\n",
       "프리스트(여)    61299.696677\n",
       "Name: fame, dtype: float64"
      ]
     },
     "execution_count": 85,
     "metadata": {},
     "output_type": "execute_result"
    }
   ],
   "source": [
    "df.groupby(\"jobName\")['fame'].mean()"
   ]
  },
  {
   "cell_type": "code",
   "execution_count": 90,
   "metadata": {},
   "outputs": [
    {
     "data": {
      "image/png": "[encoded data removed]",
      "text/plain": [
       "<Figure size 1200x400 with 1 Axes>"
      ]
     },
     "metadata": {},
     "output_type": "display_data"
    }
   ],
   "source": [
    "plt.figure(figsize=(12,4))\n",
    "sns.boxplot(data=df, x='jobName', y='fame')\n",
    "plt.xticks(rotation=30)\n",
    "plt.show()"
   ]
  },
  {
   "cell_type": "code",
   "execution_count": 81,
   "metadata": {},
   "outputs": [],
   "source": [
    "joblist = list(df['jobName'].unique())\n"
   ]
  },
  {
   "cell_type": "markdown",
   "metadata": {},
   "source": [
    "거너(남) : GunnerM</br>\n",
    "거너(여) : GunnerW</br>\n",
    "격투가(남) : FighterM</br>\n",
    "격투가(여) : FighterW</br>\n",
    "귀검사(남) : Ghost KnightM</br>\n",
    "귀검사(여) : Ghost KnightW</br>\n",
    "나이트 : Knight</br>\n",
    "다크나이트 : Dark Knight</br>\n",
    "도적 : Thief</br>\n",
    "마법사(남) : MageM</br>\n",
    "마법사(여) : MageW</br>\n",
    "마창사 : Demonic Lancer</br>\n",
    "아처 : Archer</br>\n",
    "총검사 : Gunblader</br>\n",
    "크리에이터 : Creator</br>\n",
    "프리스트(남) : PriestM</br>\n",
    "프리스트(여) : PriestW</br>"
   ]
  },
  {
   "cell_type": "code",
   "execution_count": 82,
   "metadata": {},
   "outputs": [],
   "source": [
    "GunnerM = df[df['jobName']=='거너(남)']\n",
    "GunnerW = df[df['jobName']=='거너(여)']\n",
    "FighterM = df[df['jobName']=='격투가(남)']\n",
    "FighterW = df[df['jobName']=='격투가(여)']\n",
    "GhostknightM = df[df['jobName']=='귀검사(남)']\n",
    "GhostknightW = df[df['jobName']=='귀검사(여)']\n",
    "Knight = df[df['jobName']=='나이트']\n",
    "Darkknight = df[df['jobName']=='다크나이트']\n",
    "Thief = df[df['jobName']=='도적']\n",
    "MageM = df[df['jobName']=='마법사(남)']\n",
    "MageW = df[df['jobName']=='마법사(여)']\n",
    "Demoniclancer = df[df['jobName']=='마창사']\n",
    "Archer = df[df['jobName']=='아처']\n",
    "Gunblader = df[df['jobName']=='총검사']\n",
    "Creator = df[df['jobName']=='크리에이터']\n",
    "PriestM = df[df['jobName']=='프리스트(남)']\n",
    "PriestW = df[df['jobName']=='프리스트(여)']"
   ]
  },
  {
   "cell_type": "code",
   "execution_count": 83,
   "metadata": {},
   "outputs": [],
   "source": [
    "jobdf_list = [GunnerM,\n",
    "GunnerW,\n",
    "FighterM,\n",
    "FighterW,\n",
    "GhostknightM,\n",
    "GhostknightW,\n",
    "Knight,\n",
    "Darkknight,\n",
    "Thief,\n",
    "MageM,\n",
    "MageW,\n",
    "Demoniclancer,\n",
    "Archer,\n",
    "Gunblader,\n",
    "Creator,\n",
    "PriestM,\n",
    "PriestW,]"
   ]
  }
 ],
 "metadata": {
  "kernelspec": {
   "display_name": "Python 3",
   "language": "python",
   "name": "python3"
  },
  "language_info": {
   "codemirror_mode": {
    "name": "ipython",
    "version": 3
   },
   "file_extension": ".py",
   "mimetype": "text/x-python",
   "name": "python",
   "nbconvert_exporter": "python",
   "pygments_lexer": "ipython3",
   "version": "3.10.11"
  }
 },
 "nbformat": 4,
 "nbformat_minor": 2
}
