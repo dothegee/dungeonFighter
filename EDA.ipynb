{
 "cells": [
  {
   "cell_type": "code",
   "execution_count": 1,
   "metadata": {},
   "outputs": [],
   "source": [
    "import pandas as pd\n"
   ]
  },
  {
   "cell_type": "markdown",
   "metadata": {},
   "source": [
    "## 유저 정보 데이터 전처리\n",
    "- 'slotId'\n",
    "- 'slotName'\n",
    "- 'itemId'\n",
    "- 'itemName'\n",
    "- 'itemRarity'\n",
    "- 'clone_itemId'\n",
    "- 'clone_itemName'\n",
    "- 'optionAbility'\n",
    "\n",
    "12개의 파츠 속성중 8개 속성 선정</br>\n"
   ]
  },
  {
   "cell_type": "code",
   "execution_count": 28,
   "metadata": {},
   "outputs": [
    {
     "name": "stderr",
     "output_type": "stream",
     "text": [
      "C:\\Users\\Administrator\\AppData\\Local\\Temp\\ipykernel_10172\\3047458639.py:1: DtypeWarning: Columns (124,125,219,220) have mixed types. Specify dtype option on import or set low_memory=False.\n",
      "  output1 = pd.read_csv(\"output1.csv\")\n",
      "C:\\Users\\Administrator\\AppData\\Local\\Temp\\ipykernel_10172\\3047458639.py:3: DtypeWarning: Columns (124,125,148,149,219,220) have mixed types. Specify dtype option on import or set low_memory=False.\n",
      "  output3 =pd.read_csv(\"output3.csv\")\n"
     ]
    }
   ],
   "source": [
    "output1 = pd.read_csv(\"output1.csv\")\n",
    "output2 =pd.read_csv(\"output2.csv\")\n",
    "output3 =pd.read_csv(\"output3.csv\")\n",
    "\n",
    "data = pd.concat([output1,output2,output3])\n",
    "\n",
    "del output1,output2,output3"
   ]
  },
  {
   "cell_type": "code",
   "execution_count": 29,
   "metadata": {},
   "outputs": [],
   "source": [
    "name = ['HEADGEAR'\n",
    ",'HAIR'\n",
    ",'FACE'\n",
    ",'JACKET'\n",
    ",'PANTS'\n",
    ",'SHOES'\n",
    ",'BREAST'\n",
    ",'WAIST'\n",
    ",'SKIN'\n",
    ",'AURORA'\n",
    ",'WEAPON'\n",
    ",'AURA_SKIN']"
   ]
  },
  {
   "cell_type": "code",
   "execution_count": 23,
   "metadata": {},
   "outputs": [],
   "source": [
    "columns = ['characterId',\n",
    "'characterName',\n",
    "'jobId',\n",
    "'jobName',\n",
    "'HEADGEAR__avatar_slotId',\n",
    "'HEADGEAR__avatar_slotName',\n",
    "'HEADGEAR__avatar_itemId',\n",
    "'HEADGEAR__avatar_itemName',\n",
    "'HEADGEAR__avatar_itemRarity',\n",
    "'HEADGEAR__avatar_clone_itemId',\n",
    "'HEADGEAR__avatar_clone_itemName',\n",
    "'HEADGEAR__avatar_clone_optionAbility', \n",
    "'HAIR__avatar_slotId',\n",
    "'HAIR__avatar_slotName',\n",
    "'HAIR__avatar_itemId',\n",
    "'HAIR__avatar_itemName',\n",
    "'HAIR__avatar_itemRarity',\n",
    "'HAIR__avatar_clone_itemId',\n",
    "'HAIR__avatar_clone_itemName',\n",
    "'HAIR__avatar_clone_optionAbility',\n",
    "'FACE__avatar_slotId',\n",
    "'FACE__avatar_slotName',\n",
    "'FACE__avatar_itemId',\n",
    "'FACE__avatar_itemName',\n",
    "'FACE__avatar_itemRarity',\n",
    "'FACE__avatar_clone_itemId',\n",
    "'FACE__avatar_clone_itemName',\n",
    "'FACE__avatar_clone_optionAbility',\n",
    "'JACKET__avatar_slotId',\n",
    "'JACKET__avatar_slotName',\n",
    "'JACKET__avatar_itemId',\n",
    "'JACKET__avatar_itemName',\n",
    "'JACKET__avatar_itemRarity',\n",
    "'JACKET__avatar_clone_itemId',\n",
    "'JACKET__avatar_clone_itemName',\n",
    "'JACKET__avatar_clone_optionAbility',\n",
    "'PANTS__avatar_slotId',\n",
    "'PANTS__avatar_slotName',\n",
    "'PANTS__avatar_itemId',\n",
    "'PANTS__avatar_itemName',\n",
    "'PANTS__avatar_itemRarity',\n",
    "'PANTS__avatar_clone_itemId',\n",
    "'PANTS__avatar_clone_itemName',\n",
    "'PANTS__avatar_clone_optionAbility',\n",
    "'SHOES__avatar_slotId',\n",
    "'SHOES__avatar_slotName',\n",
    "'SHOES__avatar_itemId',\n",
    "'SHOES__avatar_itemName',\n",
    "'SHOES__avatar_itemRarity',\n",
    "'SHOES__avatar_clone_itemId',\n",
    "'SHOES__avatar_clone_itemName',\n",
    "'SHOES__avatar_clone_optionAbility',\n",
    "'BREAST__avatar_slotId',\n",
    "'BREAST__avatar_slotName',\n",
    "'BREAST__avatar_itemId',\n",
    "'BREAST__avatar_itemName',\n",
    "'BREAST__avatar_itemRarity',\n",
    "'BREAST__avatar_clone_itemId',\n",
    "'BREAST__avatar_clone_itemName',\n",
    "'BREAST__avatar_clone_optionAbility',\n",
    "'WAIST__avatar_slotId',\n",
    "'WAIST__avatar_slotName',\n",
    "'WAIST__avatar_itemId',\n",
    "'WAIST__avatar_itemName',\n",
    "'WAIST__avatar_itemRarity',\n",
    "'WAIST__avatar_clone_itemId',\n",
    "'WAIST__avatar_clone_itemName',\n",
    "'WAIST__avatar_clone_optionAbility',\n",
    "'SKIN__avatar_slotId',\n",
    "'SKIN__avatar_slotName',\n",
    "'SKIN__avatar_itemId',\n",
    "'SKIN__avatar_itemName',\n",
    "'SKIN__avatar_itemRarity',\n",
    "'SKIN__avatar_clone_itemId',\n",
    "'SKIN__avatar_clone_itemName',\n",
    "'SKIN__avatar_clone_optionAbility',\n",
    "'AURORA__avatar_slotId',\n",
    "'AURORA__avatar_slotName',\n",
    "'AURORA__avatar_itemId',\n",
    "'AURORA__avatar_itemName',\n",
    "'AURORA__avatar_itemRarity',\n",
    "'AURORA__avatar_clone_itemId',\n",
    "'AURORA__avatar_clone_itemName',\n",
    "'AURORA__avatar_clone_optionAbility',\n",
    "'WEAPON__avatar_slotId',\n",
    "'WEAPON__avatar_slotName',\n",
    "'WEAPON__avatar_itemId',\n",
    "'WEAPON__avatar_itemName',\n",
    "'WEAPON__avatar_itemRarity',\n",
    "'WEAPON__avatar_clone_itemId',\n",
    "'WEAPON__avatar_clone_itemName',\n",
    "'WEAPON__avatar_clone_optionAbility',\n",
    "'AURA_SKIN__avatar_slotId',\n",
    "'AURA_SKIN__avatar_slotName',\n",
    "'AURA_SKIN__avatar_itemId',\n",
    "'AURA_SKIN__avatar_itemName',\n",
    "'AURA_SKIN__avatar_itemRarity',\n",
    "'AURA_SKIN__avatar_clone_itemId',\n",
    "'AURA_SKIN__avatar_clone_itemName',\n",
    "'AURA_SKIN__avatar_clone_optionAbility']"
   ]
  },
  {
   "cell_type": "code",
   "execution_count": 30,
   "metadata": {},
   "outputs": [],
   "source": [
    "recolumns = ['characterId',\n",
    "'characterName',\n",
    "'jobId',\n",
    "'jobName',\n",
    "'HEADGEAR__avatar_slotId',\n",
    "'HEADGEAR__avatar_slotName',\n",
    "'HEADGEAR__avatar_itemId',\n",
    "'HEADGEAR__avatar_itemName',\n",
    "'HEADGEAR__avatar_itemRarity',\n",
    "'HEADGEAR__avatar_clone_itemId',\n",
    "'HEADGEAR__avatar_clone_itemName',\n",
    "'HEADGEAR__avatar_optionAbility', \n",
    "'HAIR__avatar_slotId',\n",
    "'HAIR__avatar_slotName',\n",
    "'HAIR__avatar_itemId',\n",
    "'HAIR__avatar_itemName',\n",
    "'HAIR__avatar_itemRarity',\n",
    "'HAIR__avatar_clone_itemId',\n",
    "'HAIR__avatar_clone_itemName',\n",
    "'HAIR__avatar_optionAbility',\n",
    "'FACE__avatar_slotId',\n",
    "'FACE__avatar_slotName',\n",
    "'FACE__avatar_itemId',\n",
    "'FACE__avatar_itemName',\n",
    "'FACE__avatar_itemRarity',\n",
    "'FACE__avatar_clone_itemId',\n",
    "'FACE__avatar_clone_itemName',\n",
    "'FACE__avatar_optionAbility',\n",
    "'JACKET__avatar_slotId',\n",
    "'JACKET__avatar_slotName',\n",
    "'JACKET__avatar_itemId',\n",
    "'JACKET__avatar_itemName',\n",
    "'JACKET__avatar_itemRarity',\n",
    "'JACKET__avatar_clone_itemId',\n",
    "'JACKET__avatar_clone_itemName',\n",
    "'JACKET__avatar_optionAbility',\n",
    "'PANTS__avatar_slotId',\n",
    "'PANTS__avatar_slotName',\n",
    "'PANTS__avatar_itemId',\n",
    "'PANTS__avatar_itemName',\n",
    "'PANTS__avatar_itemRarity',\n",
    "'PANTS__avatar_clone_itemId',\n",
    "'PANTS__avatar_clone_itemName',\n",
    "'PANTS__avatar_optionAbility',\n",
    "'SHOES__avatar_slotId',\n",
    "'SHOES__avatar_slotName',\n",
    "'SHOES__avatar_itemId',\n",
    "'SHOES__avatar_itemName',\n",
    "'SHOES__avatar_itemRarity',\n",
    "'SHOES__avatar_clone_itemId',\n",
    "'SHOES__avatar_clone_itemName',\n",
    "'SHOES__avatar_optionAbility',\n",
    "'BREAST__avatar_slotId',\n",
    "'BREAST__avatar_slotName',\n",
    "'BREAST__avatar_itemId',\n",
    "'BREAST__avatar_itemName',\n",
    "'BREAST__avatar_itemRarity',\n",
    "'BREAST__avatar_clone_itemId',\n",
    "'BREAST__avatar_clone_itemName',\n",
    "'BREAST__avatar_optionAbility',\n",
    "'WAIST__avatar_slotId',\n",
    "'WAIST__avatar_slotName',\n",
    "'WAIST__avatar_itemId',\n",
    "'WAIST__avatar_itemName',\n",
    "'WAIST__avatar_itemRarity',\n",
    "'WAIST__avatar_clone_itemId',\n",
    "'WAIST__avatar_clone_itemName',\n",
    "'WAIST__avatar_optionAbility',\n",
    "'SKIN__avatar_slotId',\n",
    "'SKIN__avatar_slotName',\n",
    "'SKIN__avatar_itemId',\n",
    "'SKIN__avatar_itemName',\n",
    "'SKIN__avatar_itemRarity',\n",
    "'SKIN__avatar_clone_itemId',\n",
    "'SKIN__avatar_clone_itemName',\n",
    "'SKIN__avatar_optionAbility',\n",
    "'AURORA__avatar_slotId',\n",
    "'AURORA__avatar_slotName',\n",
    "'AURORA__avatar_itemId',\n",
    "'AURORA__avatar_itemName',\n",
    "'AURORA__avatar_itemRarity',\n",
    "'AURORA__avatar_clone_itemId',\n",
    "'AURORA__avatar_clone_itemName',\n",
    "'AURORA__avatar_optionAbility',\n",
    "'WEAPON__avatar_slotId',\n",
    "'WEAPON__avatar_slotName',\n",
    "'WEAPON__avatar_itemId',\n",
    "'WEAPON__avatar_itemName',\n",
    "'WEAPON__avatar_itemRarity',\n",
    "'WEAPON__avatar_clone_itemId',\n",
    "'WEAPON__avatar_clone_itemName',\n",
    "'WEAPON__avatar_optionAbility',\n",
    "'AURA_SKIN__avatar_slotId',\n",
    "'AURA_SKIN__avatar_slotName',\n",
    "'AURA_SKIN__avatar_itemId',\n",
    "'AURA_SKIN__avatar_itemName',\n",
    "'AURA_SKIN__avatar_itemRarity',\n",
    "'AURA_SKIN__avatar_clone_itemId',\n",
    "'AURA_SKIN__avatar_clone_itemName',\n",
    "'AURA_SKIN__avatar_optionAbility']"
   ]
  },
  {
   "cell_type": "code",
   "execution_count": 33,
   "metadata": {},
   "outputs": [],
   "source": [
    "data = data[columns]"
   ]
  },
  {
   "cell_type": "code",
   "execution_count": 34,
   "metadata": {},
   "outputs": [
    {
     "data": {
      "text/plain": [
       "100"
      ]
     },
     "execution_count": 34,
     "metadata": {},
     "output_type": "execute_result"
    }
   ],
   "source": [
    "len(columns)"
   ]
  },
  {
   "cell_type": "code",
   "execution_count": 35,
   "metadata": {},
   "outputs": [
    {
     "data": {
      "text/plain": [
       "100"
      ]
     },
     "execution_count": 35,
     "metadata": {},
     "output_type": "execute_result"
    }
   ],
   "source": [
    "len(data.columns)"
   ]
  },
  {
   "cell_type": "code",
   "execution_count": 36,
   "metadata": {},
   "outputs": [],
   "source": [
    "data.columns = recolumns"
   ]
  },
  {
   "cell_type": "code",
   "execution_count": null,
   "metadata": {},
   "outputs": [],
   "source": []
  }
 ],
 "metadata": {
  "kernelspec": {
   "display_name": "Python 3",
   "language": "python",
   "name": "python3"
  },
  "language_info": {
   "codemirror_mode": {
    "name": "ipython",
    "version": 3
   },
   "file_extension": ".py",
   "mimetype": "text/x-python",
   "name": "python",
   "nbconvert_exporter": "python",
   "pygments_lexer": "ipython3",
   "version": "3.10.11"
  }
 },
 "nbformat": 4,
 "nbformat_minor": 2
}
