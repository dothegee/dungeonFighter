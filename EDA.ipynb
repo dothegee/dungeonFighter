{
 "cells": [
  {
   "cell_type": "code",
   "execution_count": 1,
   "metadata": {},
   "outputs": [],
   "source": [
    "import pandas as pd\n",
    "import numpy as np\n",
    "import matplotlib.pyplot as plt\n",
    "import seaborn as sns\n",
    "from tqdm import tqdm"
   ]
  },
  {
   "cell_type": "markdown",
   "metadata": {},
   "source": [
    "분석 전 게임 정보\n",
    "- 경매장에서 거래되는 아이템들이 다른 서버 유저와 거래 가능 -> 서버 별 df 분리 X\n",
    "- 직업 별 착용 아이템이 다름 -> 직업 별로 df 분리"
   ]
  },
  {
   "cell_type": "markdown",
   "metadata": {},
   "source": [
    "## 유저 정보 데이터 전처리\n",
    "- 'slotId'\n",
    "- 'slotName'\n",
    "- 'itemId'\n",
    "- 'itemName'\n",
    "- 'clone_itemId'\n",
    "- 'clone_itemName'\n",
    "\n",
    "\n",
    "파츠 속성 중 6개 속성 선정</br>\n",
    "12개의 파츠에 적용"
   ]
  },
  {
   "cell_type": "markdown",
   "metadata": {},
   "source": [
    "### 데이터 불러오기"
   ]
  },
  {
   "cell_type": "code",
   "execution_count": 56,
   "metadata": {},
   "outputs": [],
   "source": [
    "user1 = pd.read_csv(\"user1.csv\")\n",
    "user2 =pd.read_csv(\"user2.csv\")\n",
    "user3 =pd.read_csv(\"user3.csv\")\n",
    "\n",
    "user = pd.concat([user1,user2,user3],ignore_index=True)\n",
    "del user1,user2,user3"
   ]
  },
  {
   "cell_type": "code",
   "execution_count": 57,
   "metadata": {},
   "outputs": [
    {
     "data": {
      "text/plain": [
       "Index(['Unnamed: 0', 'serverId', 'characterId', 'characterName', 'level',\n",
       "       'jobId', 'jobName', 'jobGrowId', 'jobGrowName', 'fame'],\n",
       "      dtype='object')"
      ]
     },
     "execution_count": 57,
     "metadata": {},
     "output_type": "execute_result"
    }
   ],
   "source": [
    "user.columns"
   ]
  },
  {
   "cell_type": "code",
   "execution_count": 58,
   "metadata": {},
   "outputs": [
    {
     "name": "stderr",
     "output_type": "stream",
     "text": [
      "C:\\Users\\Administrator\\AppData\\Local\\Temp\\ipykernel_15120\\2823437758.py:1: DtypeWarning: Columns (124,125,219,220) have mixed types. Specify dtype option on import or set low_memory=False.\n",
      "  output1 = pd.read_csv(\"output1.csv\")\n",
      "C:\\Users\\Administrator\\AppData\\Local\\Temp\\ipykernel_15120\\2823437758.py:3: DtypeWarning: Columns (124,125,148,149,219,220) have mixed types. Specify dtype option on import or set low_memory=False.\n",
      "  output3 =pd.read_csv(\"output3.csv\")\n"
     ]
    }
   ],
   "source": [
    "output1 = pd.read_csv(\"output1.csv\")\n",
    "output2 =pd.read_csv(\"output2.csv\")\n",
    "output3 =pd.read_csv(\"output3.csv\")\n",
    "\n",
    "data = pd.concat([output1,output2,output3],ignore_index=True)\n",
    "data = pd.concat([data, user['serverId']],axis=1)\n",
    "# data = data.drop('Unnamed: 0', axis=1)\n",
    "\n",
    "del output1,output2,output3"
   ]
  },
  {
   "cell_type": "code",
   "execution_count": 59,
   "metadata": {},
   "outputs": [
    {
     "data": {
      "text/html": [
       "<div>\n",
       "<style scoped>\n",
       "    .dataframe tbody tr th:only-of-type {\n",
       "        vertical-align: middle;\n",
       "    }\n",
       "\n",
       "    .dataframe tbody tr th {\n",
       "        vertical-align: top;\n",
       "    }\n",
       "\n",
       "    .dataframe thead th {\n",
       "        text-align: right;\n",
       "    }\n",
       "</style>\n",
       "<table border=\"1\" class=\"dataframe\">\n",
       "  <thead>\n",
       "    <tr style=\"text-align: right;\">\n",
       "      <th></th>\n",
       "      <th>serverId</th>\n",
       "      <th>characterId</th>\n",
       "      <th>characterName</th>\n",
       "      <th>fame</th>\n",
       "    </tr>\n",
       "  </thead>\n",
       "  <tbody>\n",
       "    <tr>\n",
       "      <th>0</th>\n",
       "      <td>anton</td>\n",
       "      <td>150a23219a59e086e36db59028c06a50</td>\n",
       "      <td>헤롱카테</td>\n",
       "      <td>66993</td>\n",
       "    </tr>\n",
       "    <tr>\n",
       "      <th>1</th>\n",
       "      <td>hilder</td>\n",
       "      <td>0daa8c49cae531262f966dd637008e30</td>\n",
       "      <td>민트크림소스</td>\n",
       "      <td>66787</td>\n",
       "    </tr>\n",
       "    <tr>\n",
       "      <th>2</th>\n",
       "      <td>anton</td>\n",
       "      <td>103e5c925e8a698e89abd4d68cce1d0e</td>\n",
       "      <td>스팅거타이거</td>\n",
       "      <td>66702</td>\n",
       "    </tr>\n",
       "    <tr>\n",
       "      <th>3</th>\n",
       "      <td>prey</td>\n",
       "      <td>3ba38c77f2868f34d910e362d0f4cae1</td>\n",
       "      <td>프라디지</td>\n",
       "      <td>66666</td>\n",
       "    </tr>\n",
       "    <tr>\n",
       "      <th>4</th>\n",
       "      <td>diregie</td>\n",
       "      <td>79a62ecc85e602ae7f13b79b766aa2ee</td>\n",
       "      <td>금요일야근</td>\n",
       "      <td>66660</td>\n",
       "    </tr>\n",
       "    <tr>\n",
       "      <th>...</th>\n",
       "      <td>...</td>\n",
       "      <td>...</td>\n",
       "      <td>...</td>\n",
       "      <td>...</td>\n",
       "    </tr>\n",
       "    <tr>\n",
       "      <th>90595</th>\n",
       "      <td>hilder</td>\n",
       "      <td>5c37706a64742ce164d02b06456ec3d9</td>\n",
       "      <td>윤아에용</td>\n",
       "      <td>60468</td>\n",
       "    </tr>\n",
       "    <tr>\n",
       "      <th>90596</th>\n",
       "      <td>cain</td>\n",
       "      <td>030f2b2ee126aec10bd0108c13b493c6</td>\n",
       "      <td>잿빛의시프</td>\n",
       "      <td>60468</td>\n",
       "    </tr>\n",
       "    <tr>\n",
       "      <th>90597</th>\n",
       "      <td>prey</td>\n",
       "      <td>c51246ee43ee7645995bdf8f2ee1a26f</td>\n",
       "      <td>저주거미</td>\n",
       "      <td>60468</td>\n",
       "    </tr>\n",
       "    <tr>\n",
       "      <th>90598</th>\n",
       "      <td>prey</td>\n",
       "      <td>9c068b798696f994d39b14a0840abb10</td>\n",
       "      <td>찌뮤</td>\n",
       "      <td>60468</td>\n",
       "    </tr>\n",
       "    <tr>\n",
       "      <th>90599</th>\n",
       "      <td>cain</td>\n",
       "      <td>cf4ac67a4cacec7f53a12b5115b48887</td>\n",
       "      <td>찬가망둥이</td>\n",
       "      <td>60468</td>\n",
       "    </tr>\n",
       "  </tbody>\n",
       "</table>\n",
       "<p>90600 rows × 4 columns</p>\n",
       "</div>"
      ],
      "text/plain": [
       "      serverId                       characterId characterName   fame\n",
       "0        anton  150a23219a59e086e36db59028c06a50          헤롱카테  66993\n",
       "1       hilder  0daa8c49cae531262f966dd637008e30        민트크림소스  66787\n",
       "2        anton  103e5c925e8a698e89abd4d68cce1d0e        스팅거타이거  66702\n",
       "3         prey  3ba38c77f2868f34d910e362d0f4cae1          프라디지  66666\n",
       "4      diregie  79a62ecc85e602ae7f13b79b766aa2ee         금요일야근  66660\n",
       "...        ...                               ...           ...    ...\n",
       "90595   hilder  5c37706a64742ce164d02b06456ec3d9          윤아에용  60468\n",
       "90596     cain  030f2b2ee126aec10bd0108c13b493c6         잿빛의시프  60468\n",
       "90597     prey  c51246ee43ee7645995bdf8f2ee1a26f          저주거미  60468\n",
       "90598     prey  9c068b798696f994d39b14a0840abb10            찌뮤  60468\n",
       "90599     cain  cf4ac67a4cacec7f53a12b5115b48887         찬가망둥이  60468\n",
       "\n",
       "[90600 rows x 4 columns]"
      ]
     },
     "execution_count": 59,
     "metadata": {},
     "output_type": "execute_result"
    }
   ],
   "source": [
    "user = user[['Unnamed: 0','serverId','characterId','characterName','fame']]\n",
    "user"
   ]
  },
  {
   "cell_type": "markdown",
   "metadata": {},
   "source": [
    "### 칼럼명 정의"
   ]
  },
  {
   "cell_type": "code",
   "execution_count": 5,
   "metadata": {},
   "outputs": [],
   "source": [
    "name = ['HEADGEAR'\n",
    ",'HAIR'\n",
    ",'FACE'\n",
    ",'JACKET'\n",
    ",'PANTS'\n",
    ",'SHOES'\n",
    ",'BREAST'\n",
    ",'WAIST'\n",
    ",'SKIN'\n",
    ",'AURORA'\n",
    ",'WEAPON'\n",
    ",'AURA_SKIN']"
   ]
  },
  {
   "cell_type": "code",
   "execution_count": 60,
   "metadata": {},
   "outputs": [],
   "source": [
    "columns = ['serverId',\n",
    "    'characterId',\n",
    "'characterName',\n",
    "'jobId',\n",
    "'jobName',\n",
    "'HEADGEAR__avatar_slotId',\n",
    "'HEADGEAR__avatar_slotName',\n",
    "'HEADGEAR__avatar_itemId',\n",
    "'HEADGEAR__avatar_itemName',\n",
    "\n",
    "'HEADGEAR__avatar_clone_itemId',\n",
    "'HEADGEAR__avatar_clone_itemName',\n",
    "\n",
    "'HAIR__avatar_slotId',\n",
    "'HAIR__avatar_slotName',\n",
    "'HAIR__avatar_itemId',\n",
    "'HAIR__avatar_itemName',\n",
    "\n",
    "'HAIR__avatar_clone_itemId',\n",
    "'HAIR__avatar_clone_itemName',\n",
    "\n",
    "'FACE__avatar_slotId',\n",
    "'FACE__avatar_slotName',\n",
    "'FACE__avatar_itemId',\n",
    "'FACE__avatar_itemName',\n",
    "\n",
    "'FACE__avatar_clone_itemId',\n",
    "'FACE__avatar_clone_itemName',\n",
    "\n",
    "'JACKET__avatar_slotId',\n",
    "'JACKET__avatar_slotName',\n",
    "'JACKET__avatar_itemId',\n",
    "'JACKET__avatar_itemName',\n",
    "\n",
    "'JACKET__avatar_clone_itemId',\n",
    "'JACKET__avatar_clone_itemName',\n",
    "\n",
    "'PANTS__avatar_slotId',\n",
    "'PANTS__avatar_slotName',\n",
    "'PANTS__avatar_itemId',\n",
    "'PANTS__avatar_itemName',\n",
    "\n",
    "'PANTS__avatar_clone_itemId',\n",
    "'PANTS__avatar_clone_itemName',\n",
    "\n",
    "'SHOES__avatar_slotId',\n",
    "'SHOES__avatar_slotName',\n",
    "'SHOES__avatar_itemId',\n",
    "'SHOES__avatar_itemName',\n",
    "\n",
    "'SHOES__avatar_clone_itemId',\n",
    "'SHOES__avatar_clone_itemName',\n",
    "\n",
    "'BREAST__avatar_slotId',\n",
    "'BREAST__avatar_slotName',\n",
    "'BREAST__avatar_itemId',\n",
    "'BREAST__avatar_itemName',\n",
    "\n",
    "'BREAST__avatar_clone_itemId',\n",
    "'BREAST__avatar_clone_itemName',\n",
    "\n",
    "'WAIST__avatar_slotId',\n",
    "'WAIST__avatar_slotName',\n",
    "'WAIST__avatar_itemId',\n",
    "'WAIST__avatar_itemName',\n",
    "\n",
    "'WAIST__avatar_clone_itemId',\n",
    "'WAIST__avatar_clone_itemName',\n",
    "\n",
    "'SKIN__avatar_slotId',\n",
    "'SKIN__avatar_slotName',\n",
    "'SKIN__avatar_itemId',\n",
    "'SKIN__avatar_itemName',\n",
    "\n",
    "'SKIN__avatar_clone_itemId',\n",
    "'SKIN__avatar_clone_itemName',\n",
    "\n",
    "'AURORA__avatar_slotId',\n",
    "'AURORA__avatar_slotName',\n",
    "'AURORA__avatar_itemId',\n",
    "'AURORA__avatar_itemName',\n",
    "\n",
    "'AURORA__avatar_clone_itemId',\n",
    "'AURORA__avatar_clone_itemName',\n",
    "\n",
    "'WEAPON__avatar_slotId',\n",
    "'WEAPON__avatar_slotName',\n",
    "'WEAPON__avatar_itemId',\n",
    "'WEAPON__avatar_itemName',\n",
    "\n",
    "'WEAPON__avatar_clone_itemId',\n",
    "'WEAPON__avatar_clone_itemName',\n",
    "\n",
    "'AURA_SKIN__avatar_slotId',\n",
    "'AURA_SKIN__avatar_slotName',\n",
    "'AURA_SKIN__avatar_itemId',\n",
    "'AURA_SKIN__avatar_itemName',\n",
    "\n",
    "'AURA_SKIN__avatar_clone_itemId',\n",
    "'AURA_SKIN__avatar_clone_itemName',\n",
    "]"
   ]
  },
  {
   "cell_type": "markdown",
   "metadata": {},
   "source": [
    "### 칼럼명 변경"
   ]
  },
  {
   "cell_type": "code",
   "execution_count": 61,
   "metadata": {},
   "outputs": [],
   "source": [
    "data = data[columns]"
   ]
  },
  {
   "cell_type": "code",
   "execution_count": 62,
   "metadata": {},
   "outputs": [
    {
     "data": {
      "text/plain": [
       "77"
      ]
     },
     "execution_count": 62,
     "metadata": {},
     "output_type": "execute_result"
    }
   ],
   "source": [
    "len(columns)"
   ]
  },
  {
   "cell_type": "code",
   "execution_count": 63,
   "metadata": {},
   "outputs": [
    {
     "data": {
      "text/plain": [
       "77"
      ]
     },
     "execution_count": 63,
     "metadata": {},
     "output_type": "execute_result"
    }
   ],
   "source": [
    "len(data.columns)"
   ]
  },
  {
   "cell_type": "markdown",
   "metadata": {},
   "source": [
    "### 이상치 검색"
   ]
  },
  {
   "cell_type": "markdown",
   "metadata": {},
   "source": [
    "#### 1. characterName이 없는 데이터"
   ]
  },
  {
   "cell_type": "code",
   "execution_count": 64,
   "metadata": {},
   "outputs": [
    {
     "data": {
      "text/plain": [
       "2"
      ]
     },
     "execution_count": 64,
     "metadata": {},
     "output_type": "execute_result"
    }
   ],
   "source": [
    "data['characterName'].isnull().sum()"
   ]
  },
  {
   "cell_type": "code",
   "execution_count": 65,
   "metadata": {},
   "outputs": [
    {
     "name": "stderr",
     "output_type": "stream",
     "text": [
      " 22%|██▏       | 20182/90600 [00:57<03:16, 358.52it/s]"
     ]
    },
    {
     "name": "stdout",
     "output_type": "stream",
     "text": [
      "20141\n"
     ]
    },
    {
     "name": "stderr",
     "output_type": "stream",
     "text": [
      " 86%|████████▋ | 78300/90600 [03:40<00:34, 358.49it/s]"
     ]
    },
    {
     "name": "stdout",
     "output_type": "stream",
     "text": [
      "78245\n"
     ]
    },
    {
     "name": "stderr",
     "output_type": "stream",
     "text": [
      "100%|██████████| 90600/90600 [04:13<00:00, 357.74it/s]\n"
     ]
    }
   ],
   "source": [
    "for i in tqdm(range(len(data))):\n",
    "    if data['characterName'].isnull()[i]:\n",
    "        print(i)"
   ]
  },
  {
   "cell_type": "code",
   "execution_count": 11,
   "metadata": {},
   "outputs": [],
   "source": [
    "data.drop([20141,78245], axis=0, inplace=True)"
   ]
  },
  {
   "cell_type": "code",
   "execution_count": 12,
   "metadata": {},
   "outputs": [],
   "source": [
    "user.drop([20141,78245], axis=0, inplace=True)"
   ]
  },
  {
   "cell_type": "markdown",
   "metadata": {},
   "source": [
    ">> api로 받아오는 과정 사이 캐릭터 삭제 추정 (2개) -> 데이터 삭제"
   ]
  },
  {
   "cell_type": "markdown",
   "metadata": {},
   "source": [
    "#### 2. 중복 데이터"
   ]
  },
  {
   "cell_type": "markdown",
   "metadata": {},
   "source": [
    "- 모든 행이 중복인 경우(characterId가 동일한 경우)"
   ]
  },
  {
   "cell_type": "code",
   "execution_count": 46,
   "metadata": {},
   "outputs": [
    {
     "data": {
      "text/plain": [
       "9057"
      ]
     },
     "execution_count": 46,
     "metadata": {},
     "output_type": "execute_result"
    }
   ],
   "source": [
    "data['characterId'].duplicated().sum()"
   ]
  },
  {
   "cell_type": "code",
   "execution_count": 47,
   "metadata": {},
   "outputs": [
    {
     "data": {
      "text/plain": [
       "9056"
      ]
     },
     "execution_count": 47,
     "metadata": {},
     "output_type": "execute_result"
    }
   ],
   "source": [
    "user['characterId'].duplicated().sum()"
   ]
  },
  {
   "cell_type": "markdown",
   "metadata": {},
   "source": [
    ">> 총 9056개 존재"
   ]
  },
  {
   "cell_type": "markdown",
   "metadata": {},
   "source": [
    "- characterId와 서버가 동일한데 중복데이터가 아닌 경우"
   ]
  },
  {
   "cell_type": "code",
   "execution_count": 28,
   "metadata": {},
   "outputs": [
    {
     "name": "stdout",
     "output_type": "stream",
     "text": [
      "FACE__avatar_clone_itemId\n",
      "FACE__avatar_clone_itemName\n"
     ]
    }
   ],
   "source": [
    "for i,col in enumerate(data.columns):\n",
    "    if str(data.loc[60382, col])==str(data.loc[60419,col]):\n",
    "        #print('c')\n",
    "        pass\n",
    "    else:\n",
    "        print(col)"
   ]
  },
  {
   "cell_type": "markdown",
   "metadata": {},
   "source": [
    ">> api 받아오는 과정에서 캐릭터 아이템 수정했다고 추정 1건</br>\n",
    ">> 동일 데이터로 판단"
   ]
  },
  {
   "cell_type": "code",
   "execution_count": 67,
   "metadata": {},
   "outputs": [
    {
     "data": {
      "text/plain": [
       "9008"
      ]
     },
     "execution_count": 67,
     "metadata": {},
     "output_type": "execute_result"
    }
   ],
   "source": [
    "data.duplicated().sum()"
   ]
  },
  {
   "cell_type": "code",
   "execution_count": 48,
   "metadata": {},
   "outputs": [
    {
     "name": "stderr",
     "output_type": "stream",
     "text": [
      "100%|██████████| 90600/90600 [00:00<00:00, 2593688.82it/s]"
     ]
    },
    {
     "name": "stdout",
     "output_type": "stream",
     "text": [
      "True\n",
      "False\n",
      "60419\n"
     ]
    },
    {
     "name": "stderr",
     "output_type": "stream",
     "text": [
      "\n"
     ]
    }
   ],
   "source": [
    "temp_a = list(data.duplicated(['characterId', 'characterName']))\n",
    "temp_b = list(data.duplicated())\n",
    "n=0\n",
    "for i in tqdm(range(len(data))):\n",
    "    if temp_a[i] == temp_b[i]:\n",
    "        n+=1\n",
    "    else:\n",
    "        print(temp_a[i])\n",
    "        print(temp_b[i])\n",
    "        print(i)"
   ]
  },
  {
   "cell_type": "markdown",
   "metadata": {},
   "source": [
    "- 유저 ID가 같은데 명성이 다른경우"
   ]
  },
  {
   "cell_type": "code",
   "execution_count": 49,
   "metadata": {},
   "outputs": [
    {
     "name": "stderr",
     "output_type": "stream",
     "text": [
      "100%|██████████| 90600/90600 [00:00<00:00, 2655958.67it/s]\n"
     ]
    }
   ],
   "source": [
    "temp_a = list(user.duplicated(['characterId', 'characterName']))\n",
    "temp_b = list(user.duplicated())\n",
    "n=0\n",
    "dup_list=[]\n",
    "for i in tqdm(range(len(user))):\n",
    "    if temp_a[i] == temp_b[i]:\n",
    "        n+=1\n",
    "    else:\n",
    "        #print(temp_a[i])\n",
    "        #print(temp_b[i])\n",
    "        dup_list.append(i)\n",
    "        "
   ]
  },
  {
   "cell_type": "code",
   "execution_count": 72,
   "metadata": {},
   "outputs": [
    {
     "name": "stdout",
     "output_type": "stream",
     "text": [
      "       serverId                       characterId characterName   fame\n",
      "5063   casillas  52d67c307161b346d4bbb357742ffa0b          빙결협회  63268\n",
      "13088      prey  52d67c307161b346d4bbb357742ffa0b            하킈  62380\n",
      "\n",
      "\n",
      "      serverId                       characterId characterName   fame\n",
      "17087     cain  a8cbb386edd4f9d8610cb98a522b1b4d         나홀로편애  62121\n",
      "17473     prey  a8cbb386edd4f9d8610cb98a522b1b4d            하군  62101\n",
      "\n",
      "\n",
      "      serverId                       characterId characterName   fame\n",
      "4780      cain  e6e09a0cd7a6c7234a68589b2b950ae0        고블린붕가붕  63322\n",
      "18144     prey  e6e09a0cd7a6c7234a68589b2b950ae0          네모로제  62062\n",
      "\n",
      "\n",
      "      serverId                       characterId characterName   fame\n",
      "20291  diregie  538ed78c6d5083fac3f29b13e9389e38        주식고수광씨  61957\n",
      "22230     cain  538ed78c6d5083fac3f29b13e9389e38        귀여운포로리  61869\n",
      "\n",
      "\n",
      "       serverId                       characterId characterName   fame\n",
      "17385  casillas  9ab5448b522c092a175fcd176da788b0         호1구라핌  62105\n",
      "26913     anton  9ab5448b522c092a175fcd176da788b0           뭉이!  61683\n",
      "\n",
      "\n",
      "      serverId                       characterId characterName   fame\n",
      "22853    bakal  f4e502fae9084b3d96d4fab14dff67eb         강화.실패  61844\n",
      "27475   siroco  f4e502fae9084b3d96d4fab14dff67eb           랜드솔  61662\n",
      "\n",
      "\n",
      "       serverId                       characterId characterName   fame\n",
      "2924       prey  4d6e708bfb4f705867147a3ef14bd7b0          들쥐콩쥐  63742\n",
      "28542  casillas  4d6e708bfb4f705867147a3ef14bd7b0        크라우치_M  61626\n",
      "\n",
      "\n",
      "       serverId                       characterId characterName   fame\n",
      "11750      prey  1cbdc0ffade51ac2e384566c53f690ef         븜미곽두식  62482\n",
      "31151  casillas  1cbdc0ffade51ac2e384566c53f690ef          니바트레  61539\n",
      "\n",
      "\n",
      "       serverId                       characterId characterName   fame\n",
      "7463    diregie  9cc50fe3d4dfbeb8b2a5dd9c8c9cb75a          모용나라  62912\n",
      "31441  casillas  9cc50fe3d4dfbeb8b2a5dd9c8c9cb75a            흙두  61531\n",
      "\n",
      "\n",
      "      serverId                       characterId characterName   fame\n",
      "12843  diregie  e90f2a17c387a7f1499b8d3a7b8f7e5b           빙륜환  62399\n",
      "33334    bakal  e90f2a17c387a7f1499b8d3a7b8f7e5b        세라핌야옹이  61471\n",
      "\n",
      "\n",
      "       serverId                       characterId characterName   fame\n",
      "982        prey  957757e976bc95b3c247e8252a6adb6e          뚜르르밥  64594\n",
      "33477  casillas  957757e976bc95b3c247e8252a6adb6e        병점동김두한  61467\n",
      "\n",
      "\n",
      "      serverId                       characterId characterName   fame\n",
      "20280    anton  a8b7dbea12d3112adb497ad4d583106c      Re:wind』  61957\n",
      "35540     prey  a8b7dbea12d3112adb497ad4d583106c     Isis_Pray  61406\n",
      "\n",
      "\n",
      "      serverId                       characterId characterName   fame\n",
      "11356  diregie  0d8d949cf341c2099416d6ec93974faf         鬼劍土난정  62515\n",
      "37680    bakal  0d8d949cf341c2099416d6ec93974faf         민트시나몬  61346\n",
      "\n",
      "\n",
      "      serverId                       characterId characterName   fame\n",
      "3094    hilder  10dc82b990f1e42947d2b1548d2f0e06          오혜민0  63699\n",
      "37754  diregie  10dc82b990f1e42947d2b1548d2f0e06            섬예  61344\n",
      "\n",
      "\n",
      "       serverId                       characterId characterName   fame\n",
      "25834  casillas  c21a88db6a02f315b790551b0c13388c         고조선선비  61724\n",
      "45192      cain  c21a88db6a02f315b790551b0c13388c         멸시할부분  61170\n",
      "45214      cain  c21a88db6a02f315b790551b0c13388c         멸시할부분  61170\n",
      "\n",
      "\n",
      "       serverId                       characterId characterName   fame\n",
      "14777  casillas  59e20065154e4e9edc6f99a33fef32da            쑤녀  62262\n",
      "47758      prey  59e20065154e4e9edc6f99a33fef32da         제삼의버퍼  61116\n",
      "\n",
      "\n",
      "      serverId                       characterId characterName   fame\n",
      "23898     prey  eac79865150ceb16e26a374d5301f816           소새소  61799\n",
      "49234   hilder  eac79865150ceb16e26a374d5301f816        치킨카레덮밥  61087\n",
      "\n",
      "\n",
      "       serverId                       characterId characterName   fame\n",
      "12083      cain  42890660ea2fe47738469543773e6d6f          키라,,  62456\n",
      "50036  casillas  42890660ea2fe47738469543773e6d6f         코어아조씨  61071\n",
      "\n",
      "\n",
      "       serverId                       characterId characterName   fame\n",
      "4509   casillas  ec406541037789debeb8284b0e01ee37         _로하나_  63374\n",
      "51323      cain  ec406541037789debeb8284b0e01ee37           혛십자  61045\n",
      "\n",
      "\n",
      "      serverId                       characterId characterName   fame\n",
      "52333     prey  df1efa93fdc5afbea80f0178ddf14c66     VinChaud∂  61024\n",
      "53203  diregie  df1efa93fdc5afbea80f0178ddf14c66       BEAST:羊  61009\n",
      "\n",
      "\n",
      "      serverId                       characterId characterName   fame\n",
      "29646   siroco  5dadcb097fcbf008c4124b8628ffbba6       SEMI_연화  61588\n",
      "55161    bakal  5dadcb097fcbf008c4124b8628ffbba6            몌별  60975\n",
      "\n",
      "\n",
      "      serverId                       characterId characterName   fame\n",
      "28447     prey  5ff6e78e578366f4f46648143b24fb34          신의나무  61629\n",
      "56559    anton  5ff6e78e578366f4f46648143b24fb34         미소녀홀리  60948\n",
      "\n",
      "\n",
      "       serverId                       characterId characterName   fame\n",
      "29085  casillas  e1a00edff5833b9ef7e9fa001c6b0973         호1구어썰  61608\n",
      "58745     anton  e1a00edff5833b9ef7e9fa001c6b0973           체인뜯  60913\n",
      "\n",
      "\n",
      "      serverId                       characterId characterName   fame\n",
      "19592    bakal  51138ec64b9578a0a6fd56e2352246a1          인리오더  61988\n",
      "59952   hilder  51138ec64b9578a0a6fd56e2352246a1     Royaltree  60893\n",
      "\n",
      "\n",
      "      serverId                       characterId characterName   fame\n",
      "31242  diregie  533660b153d5e91afd9dd95f57f68f9f            손해  61537\n",
      "60145   hilder  533660b153d5e91afd9dd95f57f68f9f      MooMoo그마  60889\n",
      "\n",
      "\n",
      "       serverId                       characterId characterName   fame\n",
      "65283     anton  8c0dd98603437fa8bc93cef5910a47dd         수박맛양갱  60808\n",
      "66182  casillas  8c0dd98603437fa8bc93cef5910a47dd     skamino인챈  60794\n",
      "66206  casillas  8c0dd98603437fa8bc93cef5910a47dd     skamino인챈  60794\n",
      "\n",
      "\n",
      "       serverId                       characterId characterName   fame\n",
      "19513  casillas  6e93f03ab724079d0dde977422ea618f           리루카  61992\n",
      "67663      cain  6e93f03ab724079d0dde977422ea618f       Hexa_헥사  60771\n",
      "\n",
      "\n",
      "       serverId                       characterId characterName   fame\n",
      "63871      prey  6b8699b6cb27c4c66d162acef29ae914          아담스시  60831\n",
      "67726  casillas  6b8699b6cb27c4c66d162acef29ae914      Moonwell  60770\n",
      "\n",
      "\n",
      "      serverId                       characterId characterName   fame\n",
      "3795   diregie  6afe070eaf0c545734595167c4f22633          호럴럴럴  63532\n",
      "67879   siroco  6afe070eaf0c545734595167c4f22633         뒤통수달인  60768\n",
      "\n",
      "\n",
      "      serverId                       characterId characterName   fame\n",
      "9517   diregie  1b7cc8ae12399148d9e8e88d600f18ec         아노시라스  62684\n",
      "70873     cain  1b7cc8ae12399148d9e8e88d600f18ec        [으흥으흥]  60722\n",
      "\n",
      "\n",
      "      serverId                       characterId characterName   fame\n",
      "43910     cain  4ce69434c6f765daf90e18badbef286d        연방의하얀곰  61199\n",
      "72905     prey  4ce69434c6f765daf90e18badbef286d          쵸파앵콜  60692\n",
      "\n",
      "\n",
      "       serverId                       characterId characterName   fame\n",
      "55685  casillas  ecf893abf2a0e06665567022faa08992          쭈죠리카  60965\n",
      "72939      prey  ecf893abf2a0e06665567022faa08992         메린이에옹  60691\n",
      "\n",
      "\n",
      "      serverId                       characterId characterName   fame\n",
      "55520    bakal  170af9b7281c01888b598bd857e70ba2           어는비  60968\n",
      "73151   hilder  170af9b7281c01888b598bd857e70ba2           백목강  60688\n",
      "\n",
      "\n",
      "      serverId                       characterId characterName   fame\n",
      "50290    bakal  08baf1bdad11f3389f51ced15b61b162    RedishRose  61065\n",
      "73682   siroco  08baf1bdad11f3389f51ced15b61b162        딸깍무녀딸깍  60681\n",
      "\n",
      "\n",
      "       serverId                       characterId characterName   fame\n",
      "26960      prey  fa93f1d3c925a86a5c0f8998533a3fff           다슬미  61681\n",
      "74383  casillas  fa93f1d3c925a86a5c0f8998533a3fff           힐이용  60671\n",
      "\n",
      "\n",
      "      serverId                       characterId characterName   fame\n",
      "49867   hilder  78da941622246fd9fdd664592cb45abb         안숨이단자  61074\n",
      "76089  diregie  78da941622246fd9fdd664592cb45abb         남홀리곰돌  60646\n",
      "\n",
      "\n",
      "      serverId                       characterId characterName   fame\n",
      "57273   hilder  7ef5da109a6596fbd8f992ea05381ae0           슈므아  60937\n",
      "77188    bakal  7ef5da109a6596fbd8f992ea05381ae0          창든참새  60632\n",
      "77248    bakal  7ef5da109a6596fbd8f992ea05381ae0          창든참새  60632\n",
      "\n",
      "\n",
      "      serverId                       characterId characterName   fame\n",
      "9879    hilder  1d4e5d144325a170b028e0074ba01097          겨울노래  62648\n",
      "77261   siroco  1d4e5d144325a170b028e0074ba01097           희추빗  60632\n",
      "\n",
      "\n",
      "       serverId                       characterId characterName   fame\n",
      "31965      prey  2c12f9ef571e308d7f507dfb5a75fb73        그라나샤베트  61512\n",
      "77489  casillas  2c12f9ef571e308d7f507dfb5a75fb73            사존  60628\n",
      "\n",
      "\n",
      "      serverId                       characterId characterName   fame\n",
      "67707  diregie  d508e8300086483f739e54d7f45aa44d       지그도약함..  60771\n",
      "77722   hilder  d508e8300086483f739e54d7f45aa44d          진여우_  60625\n",
      "\n",
      "\n",
      "      serverId                       characterId characterName   fame\n",
      "48847     prey  929777d23e8f17eb784564b7ce07bf18        가면을쓴광대  61094\n",
      "82240    bakal  929777d23e8f17eb784564b7ce07bf18        오가타_칸나  60566\n",
      "\n",
      "\n",
      "      serverId                       characterId characterName   fame\n",
      "80533   hilder  de63f6df3b17d4903806ce31c6095b29   SoundOfMuse  60589\n",
      "82301    bakal  de63f6df3b17d4903806ce31c6095b29         윤데기장군  60565\n",
      "\n",
      "\n",
      "      serverId                       characterId characterName   fame\n",
      "1317      prey  6e53ce20a7631e483cfbaf40fe6b7531         알퀘0I드  64379\n",
      "83872     cain  6e53ce20a7631e483cfbaf40fe6b7531         『키르히』  60545\n",
      "\n",
      "\n",
      "      serverId                       characterId characterName   fame\n",
      "23985    bakal  96aa8996639425159ed7840d07a5f124          양쟈폭탄  61795\n",
      "84325   hilder  96aa8996639425159ed7840d07a5f124        큰마을꿀주먹  60541\n",
      "\n",
      "\n",
      "      serverId                       characterId characterName   fame\n",
      "11898     cain  f111861c1d6df21966de93a1b82ddb1d        숨쉬는날까지  62470\n",
      "84883   hilder  f111861c1d6df21966de93a1b82ddb1d          방탄뮤즈  60533\n",
      "\n",
      "\n",
      "      serverId                       characterId characterName   fame\n",
      "12954     prey  99c6e39c0ec9ff5d64cb622172fd9190        전장의선구자  62389\n",
      "86284    anton  99c6e39c0ec9ff5d64cb622172fd9190         딜하러왔다  60516\n",
      "\n",
      "\n",
      "      serverId                       characterId characterName   fame\n",
      "58789    anton  e3e78a164fb74b60089396ea39ab9429         아늙기싫다  60912\n",
      "58833    anton  e3e78a164fb74b60089396ea39ab9429         아늙기싫다  60912\n",
      "88922     cain  e3e78a164fb74b60089396ea39ab9429          쿠나이치  60487\n",
      "\n",
      "\n"
     ]
    }
   ],
   "source": [
    "for i,idx in enumerate(dup_list):\n",
    "    print(user[user['characterId']==user.loc[idx,'characterId']])\n",
    "    print('\\n')"
   ]
  },
  {
   "cell_type": "markdown",
   "metadata": {},
   "source": [
    ">> 동일데이터로 판단"
   ]
  },
  {
   "cell_type": "markdown",
   "metadata": {},
   "source": [
    "- characterId가 동일한데 유저가 다른 경우(서버, userName등 다른 경우)"
   ]
  },
  {
   "cell_type": "code",
   "execution_count": 51,
   "metadata": {},
   "outputs": [
    {
     "name": "stderr",
     "output_type": "stream",
     "text": [
      "100%|██████████| 90600/90600 [00:00<00:00, 2960592.91it/s]\n"
     ]
    }
   ],
   "source": [
    "temp_a = list(user.duplicated(['characterId', 'characterName']))\n",
    "temp_b = list(user.duplicated(['characterId']))\n",
    "n=0\n",
    "dup_list=[]\n",
    "for i in tqdm(range(len(user))):\n",
    "    if temp_a[i] == temp_b[i]:\n",
    "        n+=1\n",
    "    else:\n",
    "        dup_list.append(i)"
   ]
  },
  {
   "cell_type": "code",
   "execution_count": 52,
   "metadata": {},
   "outputs": [
    {
     "data": {
      "text/plain": [
       "47"
      ]
     },
     "execution_count": 52,
     "metadata": {},
     "output_type": "execute_result"
    }
   ],
   "source": [
    "len(dup_list)"
   ]
  },
  {
   "cell_type": "code",
   "execution_count": 53,
   "metadata": {},
   "outputs": [
    {
     "name": "stdout",
     "output_type": "stream",
     "text": [
      "                            characterId characterName   fame\n",
      "5063   52d67c307161b346d4bbb357742ffa0b          빙결협회  63268\n",
      "13088  52d67c307161b346d4bbb357742ffa0b            하킈  62380\n",
      "\n",
      "\n",
      "                            characterId characterName   fame\n",
      "17087  a8cbb386edd4f9d8610cb98a522b1b4d         나홀로편애  62121\n",
      "17473  a8cbb386edd4f9d8610cb98a522b1b4d            하군  62101\n",
      "\n",
      "\n",
      "                            characterId characterName   fame\n",
      "4780   e6e09a0cd7a6c7234a68589b2b950ae0        고블린붕가붕  63322\n",
      "18144  e6e09a0cd7a6c7234a68589b2b950ae0          네모로제  62062\n",
      "\n",
      "\n",
      "                            characterId characterName   fame\n",
      "20291  538ed78c6d5083fac3f29b13e9389e38        주식고수광씨  61957\n",
      "22230  538ed78c6d5083fac3f29b13e9389e38        귀여운포로리  61869\n",
      "\n",
      "\n",
      "                            characterId characterName   fame\n",
      "17385  9ab5448b522c092a175fcd176da788b0         호1구라핌  62105\n",
      "26913  9ab5448b522c092a175fcd176da788b0           뭉이!  61683\n",
      "\n",
      "\n",
      "                            characterId characterName   fame\n",
      "22853  f4e502fae9084b3d96d4fab14dff67eb         강화.실패  61844\n",
      "27475  f4e502fae9084b3d96d4fab14dff67eb           랜드솔  61662\n",
      "\n",
      "\n",
      "                            characterId characterName   fame\n",
      "2924   4d6e708bfb4f705867147a3ef14bd7b0          들쥐콩쥐  63742\n",
      "28542  4d6e708bfb4f705867147a3ef14bd7b0        크라우치_M  61626\n",
      "\n",
      "\n",
      "                            characterId characterName   fame\n",
      "11750  1cbdc0ffade51ac2e384566c53f690ef         븜미곽두식  62482\n",
      "31151  1cbdc0ffade51ac2e384566c53f690ef          니바트레  61539\n",
      "\n",
      "\n",
      "                            characterId characterName   fame\n",
      "7463   9cc50fe3d4dfbeb8b2a5dd9c8c9cb75a          모용나라  62912\n",
      "31441  9cc50fe3d4dfbeb8b2a5dd9c8c9cb75a            흙두  61531\n",
      "\n",
      "\n",
      "                            characterId characterName   fame\n",
      "12843  e90f2a17c387a7f1499b8d3a7b8f7e5b           빙륜환  62399\n",
      "33334  e90f2a17c387a7f1499b8d3a7b8f7e5b        세라핌야옹이  61471\n",
      "\n",
      "\n",
      "                            characterId characterName   fame\n",
      "982    957757e976bc95b3c247e8252a6adb6e          뚜르르밥  64594\n",
      "33477  957757e976bc95b3c247e8252a6adb6e        병점동김두한  61467\n",
      "\n",
      "\n",
      "                            characterId characterName   fame\n",
      "20280  a8b7dbea12d3112adb497ad4d583106c      Re:wind』  61957\n",
      "35540  a8b7dbea12d3112adb497ad4d583106c     Isis_Pray  61406\n",
      "\n",
      "\n",
      "                            characterId characterName   fame\n",
      "11356  0d8d949cf341c2099416d6ec93974faf         鬼劍土난정  62515\n",
      "37680  0d8d949cf341c2099416d6ec93974faf         민트시나몬  61346\n",
      "\n",
      "\n",
      "                            characterId characterName   fame\n",
      "3094   10dc82b990f1e42947d2b1548d2f0e06          오혜민0  63699\n",
      "37754  10dc82b990f1e42947d2b1548d2f0e06            섬예  61344\n",
      "\n",
      "\n",
      "                            characterId characterName   fame\n",
      "25834  c21a88db6a02f315b790551b0c13388c         고조선선비  61724\n",
      "45192  c21a88db6a02f315b790551b0c13388c         멸시할부분  61170\n",
      "45214  c21a88db6a02f315b790551b0c13388c         멸시할부분  61170\n",
      "\n",
      "\n",
      "                            characterId characterName   fame\n",
      "14777  59e20065154e4e9edc6f99a33fef32da            쑤녀  62262\n",
      "47758  59e20065154e4e9edc6f99a33fef32da         제삼의버퍼  61116\n",
      "\n",
      "\n",
      "                            characterId characterName   fame\n",
      "23898  eac79865150ceb16e26a374d5301f816           소새소  61799\n",
      "49234  eac79865150ceb16e26a374d5301f816        치킨카레덮밥  61087\n",
      "\n",
      "\n",
      "                            characterId characterName   fame\n",
      "12083  42890660ea2fe47738469543773e6d6f          키라,,  62456\n",
      "50036  42890660ea2fe47738469543773e6d6f         코어아조씨  61071\n",
      "\n",
      "\n",
      "                            characterId characterName   fame\n",
      "4509   ec406541037789debeb8284b0e01ee37         _로하나_  63374\n",
      "51323  ec406541037789debeb8284b0e01ee37           혛십자  61045\n",
      "\n",
      "\n",
      "                            characterId characterName   fame\n",
      "52333  df1efa93fdc5afbea80f0178ddf14c66     VinChaud∂  61024\n",
      "53203  df1efa93fdc5afbea80f0178ddf14c66       BEAST:羊  61009\n",
      "\n",
      "\n",
      "                            characterId characterName   fame\n",
      "29646  5dadcb097fcbf008c4124b8628ffbba6       SEMI_연화  61588\n",
      "55161  5dadcb097fcbf008c4124b8628ffbba6            몌별  60975\n",
      "\n",
      "\n",
      "                            characterId characterName   fame\n",
      "28447  5ff6e78e578366f4f46648143b24fb34          신의나무  61629\n",
      "56559  5ff6e78e578366f4f46648143b24fb34         미소녀홀리  60948\n",
      "\n",
      "\n",
      "                            characterId characterName   fame\n",
      "29085  e1a00edff5833b9ef7e9fa001c6b0973         호1구어썰  61608\n",
      "58745  e1a00edff5833b9ef7e9fa001c6b0973           체인뜯  60913\n",
      "\n",
      "\n",
      "                            characterId characterName   fame\n",
      "19592  51138ec64b9578a0a6fd56e2352246a1          인리오더  61988\n",
      "59952  51138ec64b9578a0a6fd56e2352246a1     Royaltree  60893\n",
      "\n",
      "\n",
      "                            characterId characterName   fame\n",
      "31242  533660b153d5e91afd9dd95f57f68f9f            손해  61537\n",
      "60145  533660b153d5e91afd9dd95f57f68f9f      MooMoo그마  60889\n",
      "\n",
      "\n",
      "                            characterId characterName   fame\n",
      "65283  8c0dd98603437fa8bc93cef5910a47dd         수박맛양갱  60808\n",
      "66182  8c0dd98603437fa8bc93cef5910a47dd     skamino인챈  60794\n",
      "66206  8c0dd98603437fa8bc93cef5910a47dd     skamino인챈  60794\n",
      "\n",
      "\n",
      "                            characterId characterName   fame\n",
      "19513  6e93f03ab724079d0dde977422ea618f           리루카  61992\n",
      "67663  6e93f03ab724079d0dde977422ea618f       Hexa_헥사  60771\n",
      "\n",
      "\n",
      "                            characterId characterName   fame\n",
      "63871  6b8699b6cb27c4c66d162acef29ae914          아담스시  60831\n",
      "67726  6b8699b6cb27c4c66d162acef29ae914      Moonwell  60770\n",
      "\n",
      "\n",
      "                            characterId characterName   fame\n",
      "3795   6afe070eaf0c545734595167c4f22633          호럴럴럴  63532\n",
      "67879  6afe070eaf0c545734595167c4f22633         뒤통수달인  60768\n",
      "\n",
      "\n",
      "                            characterId characterName   fame\n",
      "9517   1b7cc8ae12399148d9e8e88d600f18ec         아노시라스  62684\n",
      "70873  1b7cc8ae12399148d9e8e88d600f18ec        [으흥으흥]  60722\n",
      "\n",
      "\n",
      "                            characterId characterName   fame\n",
      "43910  4ce69434c6f765daf90e18badbef286d        연방의하얀곰  61199\n",
      "72905  4ce69434c6f765daf90e18badbef286d          쵸파앵콜  60692\n",
      "\n",
      "\n",
      "                            characterId characterName   fame\n",
      "55685  ecf893abf2a0e06665567022faa08992          쭈죠리카  60965\n",
      "72939  ecf893abf2a0e06665567022faa08992         메린이에옹  60691\n",
      "\n",
      "\n",
      "                            characterId characterName   fame\n",
      "55520  170af9b7281c01888b598bd857e70ba2           어는비  60968\n",
      "73151  170af9b7281c01888b598bd857e70ba2           백목강  60688\n",
      "\n",
      "\n",
      "                            characterId characterName   fame\n",
      "50290  08baf1bdad11f3389f51ced15b61b162    RedishRose  61065\n",
      "73682  08baf1bdad11f3389f51ced15b61b162        딸깍무녀딸깍  60681\n",
      "\n",
      "\n",
      "                            characterId characterName   fame\n",
      "26960  fa93f1d3c925a86a5c0f8998533a3fff           다슬미  61681\n",
      "74383  fa93f1d3c925a86a5c0f8998533a3fff           힐이용  60671\n",
      "\n",
      "\n",
      "                            characterId characterName   fame\n",
      "49867  78da941622246fd9fdd664592cb45abb         안숨이단자  61074\n",
      "76089  78da941622246fd9fdd664592cb45abb         남홀리곰돌  60646\n",
      "\n",
      "\n",
      "                            characterId characterName   fame\n",
      "57273  7ef5da109a6596fbd8f992ea05381ae0           슈므아  60937\n",
      "77188  7ef5da109a6596fbd8f992ea05381ae0          창든참새  60632\n",
      "77248  7ef5da109a6596fbd8f992ea05381ae0          창든참새  60632\n",
      "\n",
      "\n",
      "                            characterId characterName   fame\n",
      "9879   1d4e5d144325a170b028e0074ba01097          겨울노래  62648\n",
      "77261  1d4e5d144325a170b028e0074ba01097           희추빗  60632\n",
      "\n",
      "\n",
      "                            characterId characterName   fame\n",
      "31965  2c12f9ef571e308d7f507dfb5a75fb73        그라나샤베트  61512\n",
      "77489  2c12f9ef571e308d7f507dfb5a75fb73            사존  60628\n",
      "\n",
      "\n",
      "                            characterId characterName   fame\n",
      "67707  d508e8300086483f739e54d7f45aa44d       지그도약함..  60771\n",
      "77722  d508e8300086483f739e54d7f45aa44d          진여우_  60625\n",
      "\n",
      "\n",
      "                            characterId characterName   fame\n",
      "48847  929777d23e8f17eb784564b7ce07bf18        가면을쓴광대  61094\n",
      "82240  929777d23e8f17eb784564b7ce07bf18        오가타_칸나  60566\n",
      "\n",
      "\n",
      "                            characterId characterName   fame\n",
      "80533  de63f6df3b17d4903806ce31c6095b29   SoundOfMuse  60589\n",
      "82301  de63f6df3b17d4903806ce31c6095b29         윤데기장군  60565\n",
      "\n",
      "\n",
      "                            characterId characterName   fame\n",
      "1317   6e53ce20a7631e483cfbaf40fe6b7531         알퀘0I드  64379\n",
      "83872  6e53ce20a7631e483cfbaf40fe6b7531         『키르히』  60545\n",
      "\n",
      "\n",
      "                            characterId characterName   fame\n",
      "23985  96aa8996639425159ed7840d07a5f124          양쟈폭탄  61795\n",
      "84325  96aa8996639425159ed7840d07a5f124        큰마을꿀주먹  60541\n",
      "\n",
      "\n",
      "                            characterId characterName   fame\n",
      "11898  f111861c1d6df21966de93a1b82ddb1d        숨쉬는날까지  62470\n",
      "84883  f111861c1d6df21966de93a1b82ddb1d          방탄뮤즈  60533\n",
      "\n",
      "\n",
      "                            characterId characterName   fame\n",
      "12954  99c6e39c0ec9ff5d64cb622172fd9190        전장의선구자  62389\n",
      "86284  99c6e39c0ec9ff5d64cb622172fd9190         딜하러왔다  60516\n",
      "\n",
      "\n",
      "                            characterId characterName   fame\n",
      "58789  e3e78a164fb74b60089396ea39ab9429         아늙기싫다  60912\n",
      "58833  e3e78a164fb74b60089396ea39ab9429         아늙기싫다  60912\n",
      "88922  e3e78a164fb74b60089396ea39ab9429          쿠나이치  60487\n",
      "\n",
      "\n"
     ]
    }
   ],
   "source": [
    "for i,idx in enumerate(dup_list):\n",
    "    # print(i)\n",
    "    print(user[user['characterId']==user.loc[idx,'characterId']])\n",
    "    print('\\n')"
   ]
  },
  {
   "cell_type": "markdown",
   "metadata": {},
   "source": [
    ">> 다른 데이터로 판단"
   ]
  },
  {
   "cell_type": "markdown",
   "metadata": {},
   "source": [
    "### 데이터 병합"
   ]
  },
  {
   "cell_type": "code",
   "execution_count": null,
   "metadata": {},
   "outputs": [],
   "source": []
  },
  {
   "cell_type": "markdown",
   "metadata": {},
   "source": [
    "### 직업별 df 분리\n",
    "- '다크나이트' 와 '귀검사(남)' , '크리에이터' 와 '마법사(여)' 는 아바타를 같은 것 사용\n",
    "- 오라는 직업 구분 없음\n"
   ]
  },
  {
   "cell_type": "code",
   "execution_count": 79,
   "metadata": {},
   "outputs": [
    {
     "data": {
      "text/plain": [
       "jobName\n",
       "거너(남)       6935\n",
       "거너(여)       4631\n",
       "격투가(남)      2551\n",
       "격투가(여)      6770\n",
       "귀검사(남)     11468\n",
       "귀검사(여)     12593\n",
       "나이트         3881\n",
       "다크나이트        662\n",
       "도적          2869\n",
       "마법사(남)      2595\n",
       "마법사(여)     15458\n",
       "마창사         2089\n",
       "아처         14101\n",
       "총검사         2567\n",
       "크리에이터        332\n",
       "프리스트(남)     7298\n",
       "프리스트(여)    11918\n",
       "Name: count, dtype: int64"
      ]
     },
     "execution_count": 79,
     "metadata": {},
     "output_type": "execute_result"
    }
   ],
   "source": [
    "jobdf = df['jobName'].value_counts()\n",
    "jobdf=jobdf.sort_index()\n",
    "jobdf"
   ]
  },
  {
   "cell_type": "markdown",
   "metadata": {},
   "source": [
    "#### 직업별 분포"
   ]
  },
  {
   "cell_type": "code",
   "execution_count": 98,
   "metadata": {},
   "outputs": [
    {
     "data": {
      "image/png": "[encoded data removed]",
      "text/plain": [
       "<Figure size 1200x400 with 1 Axes>"
      ]
     },
     "metadata": {},
     "output_type": "display_data"
    }
   ],
   "source": [
    "plt.figure(figsize=(12,4))\n",
    "# plt.bar(jobdf.index, jobdf.values)\n",
    "sns.barplot(data=jobdf, color = 'teal', alpha = 0.4)\n",
    "plt.rcParams['font.family'] ='Malgun Gothic'\n",
    "plt.rcParams['axes.unicode_minus'] =False\n",
    "plt.xticks(rotation=30)\n",
    "plt.show()"
   ]
  },
  {
   "cell_type": "markdown",
   "metadata": {},
   "source": [
    "여성 캐릭터의 비율이 높은 것으로 확인이 됨<br>\n",
    "여성 캐릭터의 아바타의 인기가 높다는 추정을 하여 추후 아바타의 거래량과 시세를 통해 인기의 척도를 확인할 예정"
   ]
  },
  {
   "cell_type": "markdown",
   "metadata": {},
   "source": [
    "#### 직업별 명성"
   ]
  },
  {
   "cell_type": "code",
   "execution_count": 91,
   "metadata": {},
   "outputs": [
    {
     "data": {
      "text/plain": [
       "61379.73818502916"
      ]
     },
     "execution_count": 91,
     "metadata": {},
     "output_type": "execute_result"
    }
   ],
   "source": [
    "df['fame'].mean()"
   ]
  },
  {
   "cell_type": "code",
   "execution_count": 120,
   "metadata": {},
   "outputs": [
    {
     "data": {
      "text/plain": [
       "jobName\n",
       "다크나이트      65938.0\n",
       "크리에이터      65954.0\n",
       "마법사(남)     66215.0\n",
       "총검사        66237.0\n",
       "마창사        66303.0\n",
       "격투가(남)     66305.0\n",
       "거너(여)      66317.0\n",
       "나이트        66382.0\n",
       "귀검사(여)     66386.0\n",
       "격투가(여)     66402.0\n",
       "프리스트(남)    66425.0\n",
       "도적         66430.0\n",
       "아처         66539.0\n",
       "프리스트(여)    66660.0\n",
       "귀검사(남)     66666.0\n",
       "거너(남)      66702.0\n",
       "마법사(여)     66993.0\n",
       "Name: fame, dtype: float64"
      ]
     },
     "execution_count": 120,
     "metadata": {},
     "output_type": "execute_result"
    }
   ],
   "source": [
    "df.groupby(\"jobName\")['fame'].max().sort_values()"
   ]
  },
  {
   "cell_type": "code",
   "execution_count": 121,
   "metadata": {},
   "outputs": [
    {
     "data": {
      "text/plain": [
       "jobName\n",
       "아처         61248.188781\n",
       "프리스트(여)    61299.696677\n",
       "마창사        61303.992341\n",
       "총검사        61335.764706\n",
       "프리스트(남)    61369.106742\n",
       "격투가(여)     61379.764402\n",
       "귀검사(여)     61382.384817\n",
       "나이트        61384.808039\n",
       "귀검사(남)     61415.753052\n",
       "마법사(여)     61416.615992\n",
       "마법사(남)     61432.255877\n",
       "거너(여)      61447.459296\n",
       "도적         61462.259672\n",
       "격투가(남)     61469.033320\n",
       "다크나이트      61507.980363\n",
       "거너(남)      61533.667051\n",
       "크리에이터      61543.945783\n",
       "Name: fame, dtype: float64"
      ]
     },
     "execution_count": 121,
     "metadata": {},
     "output_type": "execute_result"
    }
   ],
   "source": [
    "df.groupby(\"jobName\")['fame'].mean().sort_values()"
   ]
  },
  {
   "cell_type": "code",
   "execution_count": 106,
   "metadata": {},
   "outputs": [
    {
     "name": "stderr",
     "output_type": "stream",
     "text": [
      "C:\\Users\\Administrator\\AppData\\Local\\Temp\\ipykernel_9896\\2711637513.py:2: FutureWarning: \n",
      "\n",
      "Passing `palette` without assigning `hue` is deprecated and will be removed in v0.14.0. Assign the `x` variable to `hue` and set `legend=False` for the same effect.\n",
      "\n",
      "  sns.boxplot(data=df, x='jobName', y='fame', palette = 'Set3')\n"
     ]
    },
    {
     "data": {
      "image/png": "[encoded data removed]",
      "text/plain": [
       "<Figure size 1200x400 with 1 Axes>"
      ]
     },
     "metadata": {},
     "output_type": "display_data"
    }
   ],
   "source": [
    "plt.figure(figsize=(12,4))\n",
    "sns.boxplot(data=df, x='jobName', y='fame', palette = 'Set3')\n",
    "plt.xticks(rotation=30)\n",
    "plt.show()"
   ]
  },
  {
   "cell_type": "markdown",
   "metadata": {},
   "source": [
    "중간값과 25%~75%의 값들은 상대적으로 비슷한 수준을 띄고 있으나 최댓값들의 차이가 존재함을 알 수 있음</br>\n",
    "유저 수가 많은 직업들의 명성이 높은 것을 확인 할 수 있음"
   ]
  },
  {
   "cell_type": "code",
   "execution_count": 81,
   "metadata": {},
   "outputs": [],
   "source": [
    "joblist = list(df['jobName'].unique())\n"
   ]
  },
  {
   "cell_type": "markdown",
   "metadata": {},
   "source": [
    "거너(남) : GunnerM</br>\n",
    "거너(여) : GunnerW</br>\n",
    "격투가(남) : FighterM</br>\n",
    "격투가(여) : FighterW</br>\n",
    "귀검사(남) : Ghost KnightM</br>\n",
    "귀검사(여) : Ghost KnightW</br>\n",
    "나이트 : Knight</br>\n",
    "다크나이트 : Dark Knight</br>\n",
    "도적 : Thief</br>\n",
    "마법사(남) : MageM</br>\n",
    "마법사(여) : MageW</br>\n",
    "마창사 : Demonic Lancer</br>\n",
    "아처 : Archer</br>\n",
    "총검사 : Gunblader</br>\n",
    "크리에이터 : Creator</br>\n",
    "프리스트(남) : PriestM</br>\n",
    "프리스트(여) : PriestW</br>"
   ]
  },
  {
   "cell_type": "code",
   "execution_count": 82,
   "metadata": {},
   "outputs": [],
   "source": [
    "# GunnerM = df[df['jobName']=='거너(남)']\n",
    "# GunnerW = df[df['jobName']=='거너(여)']\n",
    "# FighterM = df[df['jobName']=='격투가(남)']\n",
    "# FighterW = df[df['jobName']=='격투가(여)']\n",
    "# GhostknightM = df[df['jobName']=='귀검사(남)']\n",
    "# GhostknightW = df[df['jobName']=='귀검사(여)']\n",
    "# Knight = df[df['jobName']=='나이트']\n",
    "# Darkknight = df[df['jobName']=='다크나이트']\n",
    "# Thief = df[df['jobName']=='도적']\n",
    "# MageM = df[df['jobName']=='마법사(남)']\n",
    "# MageW = df[df['jobName']=='마법사(여)']\n",
    "# Demoniclancer = df[df['jobName']=='마창사']\n",
    "# Archer = df[df['jobName']=='아처']\n",
    "# Gunblader = df[df['jobName']=='총검사']\n",
    "# Creator = df[df['jobName']=='크리에이터']\n",
    "# PriestM = df[df['jobName']=='프리스트(남)']\n",
    "# PriestW = df[df['jobName']=='프리스트(여)']"
   ]
  },
  {
   "cell_type": "code",
   "execution_count": 75,
   "metadata": {},
   "outputs": [],
   "source": [
    "GunnerM = data[data['jobName']=='거너(남)']\n",
    "GunnerW = data[data['jobName']=='거너(여)']\n",
    "FighterM = data[data['jobName']=='격투가(남)']\n",
    "FighterW = data[data['jobName']=='격투가(여)']\n",
    "GhostknightM = data[data['jobName']=='귀검사(남)']\n",
    "GhostknightW = data[data['jobName']=='귀검사(여)']\n",
    "Knight = data[data['jobName']=='나이트']\n",
    "Darkknight = data[data['jobName']=='다크나이트']\n",
    "Thief = data[data['jobName']=='도적']\n",
    "MageM = data[data['jobName']=='마법사(남)']\n",
    "MageW = data[data['jobName']=='마법사(여)']\n",
    "Demoniclancer = data[data['jobName']=='마창사']\n",
    "Archer = data[data['jobName']=='아처']\n",
    "Gunblader = data[data['jobName']=='총검사']\n",
    "Creator = data[data['jobName']=='크리에이터']\n",
    "PriestM = data[data['jobName']=='프리스트(남)']\n",
    "PriestW = data[data['jobName']=='프리스트(여)']"
   ]
  },
  {
   "cell_type": "code",
   "execution_count": 77,
   "metadata": {},
   "outputs": [],
   "source": [
    "a=\"GunnerM,GunnerW,FighterM,FighterW,GhostknightM,GhostknightW,Knight,Darkknight,Thief,MageM,MageW,Demoniclancer,Archer,Gunblader,Creator,PriestM,PriestW\"\n",
    "jobname = a.split(\",\")"
   ]
  },
  {
   "cell_type": "code",
   "execution_count": 78,
   "metadata": {},
   "outputs": [
    {
     "data": {
      "text/plain": [
       "['GunnerM',\n",
       " 'GunnerW',\n",
       " 'FighterM',\n",
       " 'FighterW',\n",
       " 'GhostknightM',\n",
       " 'GhostknightW',\n",
       " 'Knight',\n",
       " 'Darkknight',\n",
       " 'Thief',\n",
       " 'MageM',\n",
       " 'MageW',\n",
       " 'Demoniclancer',\n",
       " 'Archer',\n",
       " 'Gunblader',\n",
       " 'Creator',\n",
       " 'PriestM',\n",
       " 'PriestW']"
      ]
     },
     "execution_count": 78,
     "metadata": {},
     "output_type": "execute_result"
    }
   ],
   "source": [
    "jobname"
   ]
  },
  {
   "cell_type": "code",
   "execution_count": 76,
   "metadata": {},
   "outputs": [],
   "source": [
    "jobdf_list = [GunnerM,\n",
    "GunnerW,\n",
    "FighterM,\n",
    "FighterW,\n",
    "GhostknightM,\n",
    "GhostknightW,\n",
    "Knight,\n",
    "Darkknight,\n",
    "Thief,\n",
    "MageM,\n",
    "MageW,\n",
    "Demoniclancer,\n",
    "Archer,\n",
    "Gunblader,\n",
    "Creator,\n",
    "PriestM,\n",
    "PriestW,]"
   ]
  },
  {
   "cell_type": "markdown",
   "metadata": {},
   "source": [
    "### 유저가 착용 중인 아이템 확인"
   ]
  },
  {
   "cell_type": "code",
   "execution_count": 80,
   "metadata": {},
   "outputs": [
    {
     "data": {
      "text/plain": [
       "Index(['2defdc2422ff3c61f5ac1af583e79459', '92d9839ad426f31e9de3508d001f84ca',\n",
       "       '4073653019b52f859d27c96265c0b0a3', 'c90044ec63bf1520c5bc4a9385ff466d',\n",
       "       '3bd48b7a41985ad02bd07ec91dcf04a8', 'b8c1f046fe4fe0677f19195385d19b04',\n",
       "       '80c6a6b7b5c1ab32bb401dfadf76ace8', 'b8719abf78adc19335324f5a36f5987c',\n",
       "       'c8032d3f73fee655c33b30444ddd1eaa', '851f5dae01e9ed0597e533cd78700f00',\n",
       "       ...\n",
       "       'f76b941c0987e0de56117287ce33d45d', '6996eec45d98d7e165f4cd9524adc34a',\n",
       "       '27acdd98f35020c744eb046aea20099c', '760540ccbcfe523bd263b64b9405b87b',\n",
       "       '3c2eaa4f26d8e8a5417c9a4facd256b6', '04e2f6736e60cba84eb7b5e243f4996c',\n",
       "       '5da9726e0af825587b53165d4f798feb', '0dccbc01bf82e6fe94fb9349874591e3',\n",
       "       'f0a36e1ed531243c2bc177edb6bfd009', '1e9711921844b0934ab0304dd49335ed'],\n",
       "      dtype='object', name='HEADGEAR__avatar_itemId', length=656)"
      ]
     },
     "execution_count": 80,
     "metadata": {},
     "output_type": "execute_result"
    }
   ],
   "source": [
    "data['HEADGEAR__avatar_itemId'].value_counts().index"
   ]
  },
  {
   "cell_type": "code",
   "execution_count": 81,
   "metadata": {},
   "outputs": [
    {
     "data": {
      "text/plain": [
       "HEADGEAR__avatar_itemName\n",
       "레어 모자 클론 아바타                84177\n",
       "주황색 제복모                       306\n",
       "신성한 은여우 전사의 투구                275\n",
       "검은색 악마뿔                       207\n",
       "블랙크로우 투구                      147\n",
       "                            ...  \n",
       "노블레스 화이트 크로스 투구                 1\n",
       "원탁의 기사 아서왕의 실버 왕관[C타입]          1\n",
       "우아한 나비 숙녀의 나비 헤어 장식[E타입]        1\n",
       "반투 얼음조각 장식                      1\n",
       "진 디멘션워커의 무늬 타투[B타입]             1\n",
       "Name: count, Length: 439, dtype: int64"
      ]
     },
     "execution_count": 81,
     "metadata": {},
     "output_type": "execute_result"
    }
   ],
   "source": [
    "data['HEADGEAR__avatar_itemName'].value_counts()"
   ]
  },
  {
   "cell_type": "code",
   "execution_count": 79,
   "metadata": {},
   "outputs": [
    {
     "name": "stdout",
     "output_type": "stream",
     "text": [
      "GunnerM\n",
      "53\n",
      "40\n",
      "GunnerW\n",
      "38\n",
      "29\n",
      "FighterM\n",
      "36\n",
      "29\n",
      "FighterW\n",
      "47\n",
      "34\n",
      "GhostknightM\n",
      "70\n",
      "51\n",
      "GhostknightW\n",
      "42\n",
      "33\n",
      "Knight\n",
      "30\n",
      "25\n",
      "Darkknight\n",
      "23\n",
      "19\n",
      "Thief\n",
      "28\n",
      "24\n",
      "MageM\n",
      "38\n",
      "33\n",
      "MageW\n",
      "82\n",
      "67\n",
      "Demoniclancer\n",
      "25\n",
      "20\n",
      "Archer\n",
      "17\n",
      "15\n",
      "Gunblader\n",
      "18\n",
      "14\n",
      "Creator\n",
      "22\n",
      "19\n",
      "PriestM\n",
      "71\n",
      "57\n",
      "PriestW\n",
      "61\n",
      "53\n"
     ]
    }
   ],
   "source": [
    "for i in range(len(jobdf_list)):\n",
    "    print(jobname[i])\n",
    "    print(len(jobdf_list[i]['HEADGEAR__avatar_itemId'].value_counts().index))\n",
    "    print(len(jobdf_list[i]['HEADGEAR__avatar_itemName'].value_counts()))"
   ]
  },
  {
   "cell_type": "code",
   "execution_count": null,
   "metadata": {},
   "outputs": [],
   "source": []
  },
  {
   "cell_type": "markdown",
   "metadata": {},
   "source": [
    ">> itemName이 같지만 itemId가 다른 경우가 존재"
   ]
  }
 ],
 "metadata": {
  "kernelspec": {
   "display_name": "Python 3",
   "language": "python",
   "name": "python3"
  },
  "language_info": {
   "codemirror_mode": {
    "name": "ipython",
    "version": 3
   },
   "file_extension": ".py",
   "mimetype": "text/x-python",
   "name": "python",
   "nbconvert_exporter": "python",
   "pygments_lexer": "ipython3",
   "version": "3.10.11"
  }
 },
 "nbformat": 4,
 "nbformat_minor": 2
}
