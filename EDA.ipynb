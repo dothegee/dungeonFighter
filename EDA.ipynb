{
 "cells": [
  {
   "cell_type": "code",
   "execution_count": 1,
   "metadata": {},
   "outputs": [],
   "source": [
    "import pandas as pd\n",
    "import numpy as np\n",
    "import matplotlib.pyplot as plt\n",
    "import seaborn as sns\n",
    "from tqdm import tqdm"
   ]
  },
  {
   "cell_type": "markdown",
   "metadata": {},
   "source": [
    "분석 전 게임 정보\n",
    "- 경매장에서 거래되는 아이템들이 다른 서버 유저와 거래 가능 -> 서버 별 df 분리 X\n",
    "- 직업 별 착용 아이템이 다름 -> 직업 별로 df 분리"
   ]
  },
  {
   "cell_type": "markdown",
   "metadata": {},
   "source": [
    "## 유저 정보 데이터 전처리\n",
    "- 'slotId'\n",
    "- 'slotName'\n",
    "- 'itemId'\n",
    "- 'itemName'\n",
    "- 'clone_itemId'\n",
    "- 'clone_itemName'\n",
    "\n",
    "\n",
    "파츠 속성 중 6개 속성 선정</br>\n",
    "12개의 파츠에 적용"
   ]
  },
  {
   "cell_type": "markdown",
   "metadata": {},
   "source": [
    "### 데이터 불러오기"
   ]
  },
  {
   "cell_type": "code",
   "execution_count": 82,
   "metadata": {},
   "outputs": [],
   "source": [
    "user1 = pd.read_csv(\"user1.csv\")\n",
    "user2 =pd.read_csv(\"user2.csv\")\n",
    "user3 =pd.read_csv(\"user3.csv\")\n",
    "\n",
    "user = pd.concat([user1,user2,user3],ignore_index=True)\n",
    "del user1,user2,user3"
   ]
  },
  {
   "cell_type": "code",
   "execution_count": 83,
   "metadata": {},
   "outputs": [
    {
     "name": "stderr",
     "output_type": "stream",
     "text": [
      "C:\\Users\\Administrator\\AppData\\Local\\Temp\\ipykernel_15120\\2480974654.py:1: DtypeWarning: Columns (124,125,219,220) have mixed types. Specify dtype option on import or set low_memory=False.\n",
      "  output1 = pd.read_csv(\"output1.csv\")\n",
      "C:\\Users\\Administrator\\AppData\\Local\\Temp\\ipykernel_15120\\2480974654.py:3: DtypeWarning: Columns (124,125,148,149,219,220) have mixed types. Specify dtype option on import or set low_memory=False.\n",
      "  output3 =pd.read_csv(\"output3.csv\")\n"
     ]
    }
   ],
   "source": [
    "output1 = pd.read_csv(\"output1.csv\")\n",
    "output2 =pd.read_csv(\"output2.csv\")\n",
    "output3 =pd.read_csv(\"output3.csv\")\n",
    "\n",
    "data = pd.concat([output1,output2,output3],ignore_index=True)\n",
    "\n",
    "# data = data.drop('Unnamed: 0', axis=1)\n",
    "\n",
    "del output1,output2,output3"
   ]
  },
  {
   "cell_type": "markdown",
   "metadata": {},
   "source": [
    "### 칼럼명 정의"
   ]
  },
  {
   "cell_type": "code",
   "execution_count": 5,
   "metadata": {},
   "outputs": [],
   "source": [
    "name = ['HEADGEAR'\n",
    ",'HAIR'\n",
    ",'FACE'\n",
    ",'JACKET'\n",
    ",'PANTS'\n",
    ",'SHOES'\n",
    ",'BREAST'\n",
    ",'WAIST'\n",
    ",'SKIN'\n",
    ",'AURORA'\n",
    ",'WEAPON'\n",
    ",'AURA_SKIN']"
   ]
  },
  {
   "cell_type": "code",
   "execution_count": 85,
   "metadata": {},
   "outputs": [],
   "source": [
    "columns = [\n",
    "    'characterId',\n",
    "'characterName',\n",
    "'jobId',\n",
    "'jobName',\n",
    "'HEADGEAR__avatar_slotId',\n",
    "'HEADGEAR__avatar_slotName',\n",
    "'HEADGEAR__avatar_itemId',\n",
    "'HEADGEAR__avatar_itemName',\n",
    "\n",
    "'HEADGEAR__avatar_clone_itemId',\n",
    "'HEADGEAR__avatar_clone_itemName',\n",
    "\n",
    "'HAIR__avatar_slotId',\n",
    "'HAIR__avatar_slotName',\n",
    "'HAIR__avatar_itemId',\n",
    "'HAIR__avatar_itemName',\n",
    "\n",
    "'HAIR__avatar_clone_itemId',\n",
    "'HAIR__avatar_clone_itemName',\n",
    "\n",
    "'FACE__avatar_slotId',\n",
    "'FACE__avatar_slotName',\n",
    "'FACE__avatar_itemId',\n",
    "'FACE__avatar_itemName',\n",
    "\n",
    "'FACE__avatar_clone_itemId',\n",
    "'FACE__avatar_clone_itemName',\n",
    "\n",
    "'JACKET__avatar_slotId',\n",
    "'JACKET__avatar_slotName',\n",
    "'JACKET__avatar_itemId',\n",
    "'JACKET__avatar_itemName',\n",
    "\n",
    "'JACKET__avatar_clone_itemId',\n",
    "'JACKET__avatar_clone_itemName',\n",
    "\n",
    "'PANTS__avatar_slotId',\n",
    "'PANTS__avatar_slotName',\n",
    "'PANTS__avatar_itemId',\n",
    "'PANTS__avatar_itemName',\n",
    "\n",
    "'PANTS__avatar_clone_itemId',\n",
    "'PANTS__avatar_clone_itemName',\n",
    "\n",
    "'SHOES__avatar_slotId',\n",
    "'SHOES__avatar_slotName',\n",
    "'SHOES__avatar_itemId',\n",
    "'SHOES__avatar_itemName',\n",
    "\n",
    "'SHOES__avatar_clone_itemId',\n",
    "'SHOES__avatar_clone_itemName',\n",
    "\n",
    "'BREAST__avatar_slotId',\n",
    "'BREAST__avatar_slotName',\n",
    "'BREAST__avatar_itemId',\n",
    "'BREAST__avatar_itemName',\n",
    "\n",
    "'BREAST__avatar_clone_itemId',\n",
    "'BREAST__avatar_clone_itemName',\n",
    "\n",
    "'WAIST__avatar_slotId',\n",
    "'WAIST__avatar_slotName',\n",
    "'WAIST__avatar_itemId',\n",
    "'WAIST__avatar_itemName',\n",
    "\n",
    "'WAIST__avatar_clone_itemId',\n",
    "'WAIST__avatar_clone_itemName',\n",
    "\n",
    "'SKIN__avatar_slotId',\n",
    "'SKIN__avatar_slotName',\n",
    "'SKIN__avatar_itemId',\n",
    "'SKIN__avatar_itemName',\n",
    "\n",
    "'SKIN__avatar_clone_itemId',\n",
    "'SKIN__avatar_clone_itemName',\n",
    "\n",
    "'AURORA__avatar_slotId',\n",
    "'AURORA__avatar_slotName',\n",
    "'AURORA__avatar_itemId',\n",
    "'AURORA__avatar_itemName',\n",
    "\n",
    "'AURORA__avatar_clone_itemId',\n",
    "'AURORA__avatar_clone_itemName',\n",
    "\n",
    "'WEAPON__avatar_slotId',\n",
    "'WEAPON__avatar_slotName',\n",
    "'WEAPON__avatar_itemId',\n",
    "'WEAPON__avatar_itemName',\n",
    "\n",
    "'WEAPON__avatar_clone_itemId',\n",
    "'WEAPON__avatar_clone_itemName',\n",
    "\n",
    "'AURA_SKIN__avatar_slotId',\n",
    "'AURA_SKIN__avatar_slotName',\n",
    "'AURA_SKIN__avatar_itemId',\n",
    "'AURA_SKIN__avatar_itemName',\n",
    "\n",
    "'AURA_SKIN__avatar_clone_itemId',\n",
    "'AURA_SKIN__avatar_clone_itemName',\n",
    "]"
   ]
  },
  {
   "cell_type": "markdown",
   "metadata": {},
   "source": [
    "### 데이터 전처리"
   ]
  },
  {
   "cell_type": "code",
   "execution_count": 86,
   "metadata": {},
   "outputs": [
    {
     "data": {
      "text/html": [
       "<div>\n",
       "<style scoped>\n",
       "    .dataframe tbody tr th:only-of-type {\n",
       "        vertical-align: middle;\n",
       "    }\n",
       "\n",
       "    .dataframe tbody tr th {\n",
       "        vertical-align: top;\n",
       "    }\n",
       "\n",
       "    .dataframe thead th {\n",
       "        text-align: right;\n",
       "    }\n",
       "</style>\n",
       "<table border=\"1\" class=\"dataframe\">\n",
       "  <thead>\n",
       "    <tr style=\"text-align: right;\">\n",
       "      <th></th>\n",
       "      <th>serverId</th>\n",
       "      <th>characterId</th>\n",
       "      <th>characterName</th>\n",
       "      <th>fame</th>\n",
       "    </tr>\n",
       "  </thead>\n",
       "  <tbody>\n",
       "    <tr>\n",
       "      <th>0</th>\n",
       "      <td>anton</td>\n",
       "      <td>150a23219a59e086e36db59028c06a50</td>\n",
       "      <td>헤롱카테</td>\n",
       "      <td>66993</td>\n",
       "    </tr>\n",
       "    <tr>\n",
       "      <th>1</th>\n",
       "      <td>hilder</td>\n",
       "      <td>0daa8c49cae531262f966dd637008e30</td>\n",
       "      <td>민트크림소스</td>\n",
       "      <td>66787</td>\n",
       "    </tr>\n",
       "    <tr>\n",
       "      <th>2</th>\n",
       "      <td>anton</td>\n",
       "      <td>103e5c925e8a698e89abd4d68cce1d0e</td>\n",
       "      <td>스팅거타이거</td>\n",
       "      <td>66702</td>\n",
       "    </tr>\n",
       "    <tr>\n",
       "      <th>3</th>\n",
       "      <td>prey</td>\n",
       "      <td>3ba38c77f2868f34d910e362d0f4cae1</td>\n",
       "      <td>프라디지</td>\n",
       "      <td>66666</td>\n",
       "    </tr>\n",
       "    <tr>\n",
       "      <th>4</th>\n",
       "      <td>diregie</td>\n",
       "      <td>79a62ecc85e602ae7f13b79b766aa2ee</td>\n",
       "      <td>금요일야근</td>\n",
       "      <td>66660</td>\n",
       "    </tr>\n",
       "    <tr>\n",
       "      <th>...</th>\n",
       "      <td>...</td>\n",
       "      <td>...</td>\n",
       "      <td>...</td>\n",
       "      <td>...</td>\n",
       "    </tr>\n",
       "    <tr>\n",
       "      <th>90595</th>\n",
       "      <td>hilder</td>\n",
       "      <td>5c37706a64742ce164d02b06456ec3d9</td>\n",
       "      <td>윤아에용</td>\n",
       "      <td>60468</td>\n",
       "    </tr>\n",
       "    <tr>\n",
       "      <th>90596</th>\n",
       "      <td>cain</td>\n",
       "      <td>030f2b2ee126aec10bd0108c13b493c6</td>\n",
       "      <td>잿빛의시프</td>\n",
       "      <td>60468</td>\n",
       "    </tr>\n",
       "    <tr>\n",
       "      <th>90597</th>\n",
       "      <td>prey</td>\n",
       "      <td>c51246ee43ee7645995bdf8f2ee1a26f</td>\n",
       "      <td>저주거미</td>\n",
       "      <td>60468</td>\n",
       "    </tr>\n",
       "    <tr>\n",
       "      <th>90598</th>\n",
       "      <td>prey</td>\n",
       "      <td>9c068b798696f994d39b14a0840abb10</td>\n",
       "      <td>찌뮤</td>\n",
       "      <td>60468</td>\n",
       "    </tr>\n",
       "    <tr>\n",
       "      <th>90599</th>\n",
       "      <td>cain</td>\n",
       "      <td>cf4ac67a4cacec7f53a12b5115b48887</td>\n",
       "      <td>찬가망둥이</td>\n",
       "      <td>60468</td>\n",
       "    </tr>\n",
       "  </tbody>\n",
       "</table>\n",
       "<p>90600 rows × 4 columns</p>\n",
       "</div>"
      ],
      "text/plain": [
       "      serverId                       characterId characterName   fame\n",
       "0        anton  150a23219a59e086e36db59028c06a50          헤롱카테  66993\n",
       "1       hilder  0daa8c49cae531262f966dd637008e30        민트크림소스  66787\n",
       "2        anton  103e5c925e8a698e89abd4d68cce1d0e        스팅거타이거  66702\n",
       "3         prey  3ba38c77f2868f34d910e362d0f4cae1          프라디지  66666\n",
       "4      diregie  79a62ecc85e602ae7f13b79b766aa2ee         금요일야근  66660\n",
       "...        ...                               ...           ...    ...\n",
       "90595   hilder  5c37706a64742ce164d02b06456ec3d9          윤아에용  60468\n",
       "90596     cain  030f2b2ee126aec10bd0108c13b493c6         잿빛의시프  60468\n",
       "90597     prey  c51246ee43ee7645995bdf8f2ee1a26f          저주거미  60468\n",
       "90598     prey  9c068b798696f994d39b14a0840abb10            찌뮤  60468\n",
       "90599     cain  cf4ac67a4cacec7f53a12b5115b48887         찬가망둥이  60468\n",
       "\n",
       "[90600 rows x 4 columns]"
      ]
     },
     "execution_count": 86,
     "metadata": {},
     "output_type": "execute_result"
    }
   ],
   "source": [
    "user = user[['serverId','characterId','characterName','fame']]\n",
    "user"
   ]
  },
  {
   "cell_type": "code",
   "execution_count": 87,
   "metadata": {},
   "outputs": [
    {
     "data": {
      "text/html": [
       "<div>\n",
       "<style scoped>\n",
       "    .dataframe tbody tr th:only-of-type {\n",
       "        vertical-align: middle;\n",
       "    }\n",
       "\n",
       "    .dataframe tbody tr th {\n",
       "        vertical-align: top;\n",
       "    }\n",
       "\n",
       "    .dataframe thead th {\n",
       "        text-align: right;\n",
       "    }\n",
       "</style>\n",
       "<table border=\"1\" class=\"dataframe\">\n",
       "  <thead>\n",
       "    <tr style=\"text-align: right;\">\n",
       "      <th></th>\n",
       "      <th>characterId</th>\n",
       "      <th>characterName</th>\n",
       "      <th>jobId</th>\n",
       "      <th>jobName</th>\n",
       "      <th>HEADGEAR__avatar_slotId</th>\n",
       "      <th>HEADGEAR__avatar_slotName</th>\n",
       "      <th>HEADGEAR__avatar_itemId</th>\n",
       "      <th>HEADGEAR__avatar_itemName</th>\n",
       "      <th>HEADGEAR__avatar_clone_itemId</th>\n",
       "      <th>HEADGEAR__avatar_clone_itemName</th>\n",
       "      <th>...</th>\n",
       "      <th>WEAPON__avatar_itemId</th>\n",
       "      <th>WEAPON__avatar_itemName</th>\n",
       "      <th>WEAPON__avatar_clone_itemId</th>\n",
       "      <th>WEAPON__avatar_clone_itemName</th>\n",
       "      <th>AURA_SKIN__avatar_slotId</th>\n",
       "      <th>AURA_SKIN__avatar_slotName</th>\n",
       "      <th>AURA_SKIN__avatar_itemId</th>\n",
       "      <th>AURA_SKIN__avatar_itemName</th>\n",
       "      <th>AURA_SKIN__avatar_clone_itemId</th>\n",
       "      <th>AURA_SKIN__avatar_clone_itemName</th>\n",
       "    </tr>\n",
       "  </thead>\n",
       "  <tbody>\n",
       "    <tr>\n",
       "      <th>0</th>\n",
       "      <td>150a23219a59e086e36db59028c06a50</td>\n",
       "      <td>헤롱카테</td>\n",
       "      <td>3909d0b188e9c95311399f776e331da5</td>\n",
       "      <td>마법사(여)</td>\n",
       "      <td>HEADGEAR</td>\n",
       "      <td>모자 아바타</td>\n",
       "      <td>aebd9700b2de7be3fc909f89f8cfffce</td>\n",
       "      <td>레어 모자 클론 아바타</td>\n",
       "      <td>14d18062b175b136d7ef6f1db407f58d</td>\n",
       "      <td>던파스쿨 고양이 머리띠[A타입]</td>\n",
       "      <td>...</td>\n",
       "      <td>e16f404ee01406d159987f41abd99118</td>\n",
       "      <td>레어 무기 클론 아바타[40Lv]</td>\n",
       "      <td>e5f9d8f370765a3496f0b3ef189a0e7f</td>\n",
       "      <td>포식의 욕망</td>\n",
       "      <td>AURA_SKIN</td>\n",
       "      <td>오라 스킨 아바타</td>\n",
       "      <td>d1bb79f2380a3375cb7a473246053ffa</td>\n",
       "      <td>★미쿠와 함께★</td>\n",
       "      <td>NaN</td>\n",
       "      <td>NaN</td>\n",
       "    </tr>\n",
       "    <tr>\n",
       "      <th>1</th>\n",
       "      <td>0daa8c49cae531262f966dd637008e30</td>\n",
       "      <td>민트크림소스</td>\n",
       "      <td>3909d0b188e9c95311399f776e331da5</td>\n",
       "      <td>마법사(여)</td>\n",
       "      <td>HEADGEAR</td>\n",
       "      <td>모자 아바타</td>\n",
       "      <td>d73b5d96d17c84e54ff2a999658a4845</td>\n",
       "      <td>레어 모자 클론 아바타</td>\n",
       "      <td>9b676223df861e8932d01fa8be03dd6a</td>\n",
       "      <td>아라드 해변 리본 모자[C타입]</td>\n",
       "      <td>...</td>\n",
       "      <td>6f664071d276072fdc25371252816989</td>\n",
       "      <td>레어 무기 클론 아바타[75Lv]</td>\n",
       "      <td>f742d25f8e25513de703149cbd432e65</td>\n",
       "      <td>엘프 여왕의 정령</td>\n",
       "      <td>AURA_SKIN</td>\n",
       "      <td>오라 스킨 아바타</td>\n",
       "      <td>4754847cc0c85ffbcc6bd108e9207f6c</td>\n",
       "      <td>모험단 모션 오라 아바타</td>\n",
       "      <td>2fd6865377f6563035def5de26f489b7</td>\n",
       "      <td>해방된 요기 오라</td>\n",
       "    </tr>\n",
       "    <tr>\n",
       "      <th>2</th>\n",
       "      <td>103e5c925e8a698e89abd4d68cce1d0e</td>\n",
       "      <td>스팅거타이거</td>\n",
       "      <td>afdf3b989339de478e85b614d274d1ef</td>\n",
       "      <td>거너(남)</td>\n",
       "      <td>HEADGEAR</td>\n",
       "      <td>모자 아바타</td>\n",
       "      <td>80c6a6b7b5c1ab32bb401dfadf76ace8</td>\n",
       "      <td>레어 모자 클론 아바타</td>\n",
       "      <td>89f6c4947ec18a4b0aab705b0e93b3a1</td>\n",
       "      <td>진 메카닉의 헤드폰[B타입]</td>\n",
       "      <td>...</td>\n",
       "      <td>dd013289916783dddc5a90f378682e40</td>\n",
       "      <td>레어 무기 클론 아바타[80Lv]</td>\n",
       "      <td>d58731378b57cdcd957614255173424a</td>\n",
       "      <td>던전앤파이터 클래식 캐논</td>\n",
       "      <td>AURA_SKIN</td>\n",
       "      <td>오라 스킨 아바타</td>\n",
       "      <td>3baabfc239dd420d0b6673c7b1426391</td>\n",
       "      <td>푸른빛 홀로그램</td>\n",
       "      <td>NaN</td>\n",
       "      <td>NaN</td>\n",
       "    </tr>\n",
       "    <tr>\n",
       "      <th>3</th>\n",
       "      <td>3ba38c77f2868f34d910e362d0f4cae1</td>\n",
       "      <td>프라디지</td>\n",
       "      <td>41f1cdc2ff58bb5fdc287be0db2a8df3</td>\n",
       "      <td>귀검사(남)</td>\n",
       "      <td>HEADGEAR</td>\n",
       "      <td>모자 아바타</td>\n",
       "      <td>3bd48b7a41985ad02bd07ec91dcf04a8</td>\n",
       "      <td>레어 모자 클론 아바타</td>\n",
       "      <td>995900bb5ded1b28e387a0e709572fae</td>\n",
       "      <td>부러진 악마의 블랙 혼</td>\n",
       "      <td>...</td>\n",
       "      <td>7b0532818737be0b0e6f1e2c4042cf60</td>\n",
       "      <td>레어 무기 클론 아바타[75Lv]</td>\n",
       "      <td>a6f732dc2f3fa8ef24a420cca2ca5aa2</td>\n",
       "      <td>명도 후구도쿠</td>\n",
       "      <td>AURA_SKIN</td>\n",
       "      <td>오라 스킨 아바타</td>\n",
       "      <td>025ff1f20ce27272539704aedb878ac1</td>\n",
       "      <td>연옥의 불길</td>\n",
       "      <td>NaN</td>\n",
       "      <td>NaN</td>\n",
       "    </tr>\n",
       "    <tr>\n",
       "      <th>4</th>\n",
       "      <td>79a62ecc85e602ae7f13b79b766aa2ee</td>\n",
       "      <td>금요일야근</td>\n",
       "      <td>0c1b401bb09241570d364420b3ba3fd7</td>\n",
       "      <td>프리스트(여)</td>\n",
       "      <td>HEADGEAR</td>\n",
       "      <td>모자 아바타</td>\n",
       "      <td>4073653019b52f859d27c96265c0b0a3</td>\n",
       "      <td>레어 모자 클론 아바타</td>\n",
       "      <td>NaN</td>\n",
       "      <td>NaN</td>\n",
       "      <td>...</td>\n",
       "      <td>f99c56e62fa39e93ec0f1fe793ccf05c</td>\n",
       "      <td>레어 무기 클론 아바타[45Lv]</td>\n",
       "      <td>6723b14653bc97f521e990439b3bad77</td>\n",
       "      <td>이면 1활 삼뢰의 포진</td>\n",
       "      <td>AURA_SKIN</td>\n",
       "      <td>오라 스킨 아바타</td>\n",
       "      <td>f99513274bbef4290a1379c223933338</td>\n",
       "      <td>조화가 무너진 기억</td>\n",
       "      <td>NaN</td>\n",
       "      <td>NaN</td>\n",
       "    </tr>\n",
       "    <tr>\n",
       "      <th>...</th>\n",
       "      <td>...</td>\n",
       "      <td>...</td>\n",
       "      <td>...</td>\n",
       "      <td>...</td>\n",
       "      <td>...</td>\n",
       "      <td>...</td>\n",
       "      <td>...</td>\n",
       "      <td>...</td>\n",
       "      <td>...</td>\n",
       "      <td>...</td>\n",
       "      <td>...</td>\n",
       "      <td>...</td>\n",
       "      <td>...</td>\n",
       "      <td>...</td>\n",
       "      <td>...</td>\n",
       "      <td>...</td>\n",
       "      <td>...</td>\n",
       "      <td>...</td>\n",
       "      <td>...</td>\n",
       "      <td>...</td>\n",
       "      <td>...</td>\n",
       "    </tr>\n",
       "    <tr>\n",
       "      <th>90595</th>\n",
       "      <td>5c37706a64742ce164d02b06456ec3d9</td>\n",
       "      <td>윤아에용</td>\n",
       "      <td>a7a059ebe9e6054c0644b40ef316d6e9</td>\n",
       "      <td>격투가(여)</td>\n",
       "      <td>HEADGEAR</td>\n",
       "      <td>모자 아바타</td>\n",
       "      <td>b8c1f046fe4fe0677f19195385d19b04</td>\n",
       "      <td>레어 모자 클론 아바타</td>\n",
       "      <td>53d334dc1641cd3f4605908bcaa89960</td>\n",
       "      <td>진 스트라이커의 거친 후드[A타입]</td>\n",
       "      <td>...</td>\n",
       "      <td>5c94117f7b5b2232b776011cfa42579e</td>\n",
       "      <td>무기 클론 아바타</td>\n",
       "      <td>NaN</td>\n",
       "      <td>NaN</td>\n",
       "      <td>NaN</td>\n",
       "      <td>NaN</td>\n",
       "      <td>NaN</td>\n",
       "      <td>NaN</td>\n",
       "      <td>NaN</td>\n",
       "      <td>NaN</td>\n",
       "    </tr>\n",
       "    <tr>\n",
       "      <th>90596</th>\n",
       "      <td>030f2b2ee126aec10bd0108c13b493c6</td>\n",
       "      <td>잿빛의시프</td>\n",
       "      <td>41f1cdc2ff58bb5fdc287be0db2a8df3</td>\n",
       "      <td>귀검사(남)</td>\n",
       "      <td>HEADGEAR</td>\n",
       "      <td>모자 아바타</td>\n",
       "      <td>3bd48b7a41985ad02bd07ec91dcf04a8</td>\n",
       "      <td>레어 모자 클론 아바타</td>\n",
       "      <td>711ee1f368e0e83f29d33f2b06bd4994</td>\n",
       "      <td>야생의 사파리 사모예드의 탈[A타입]</td>\n",
       "      <td>...</td>\n",
       "      <td>ccde39545f0f69b26e9f6b23f41751a0</td>\n",
       "      <td>레어 무기 클론 아바타[70Lv]</td>\n",
       "      <td>NaN</td>\n",
       "      <td>NaN</td>\n",
       "      <td>AURA_SKIN</td>\n",
       "      <td>오라 스킨 아바타</td>\n",
       "      <td>f99513274bbef4290a1379c223933338</td>\n",
       "      <td>조화가 무너진 기억</td>\n",
       "      <td>NaN</td>\n",
       "      <td>NaN</td>\n",
       "    </tr>\n",
       "    <tr>\n",
       "      <th>90597</th>\n",
       "      <td>c51246ee43ee7645995bdf8f2ee1a26f</td>\n",
       "      <td>저주거미</td>\n",
       "      <td>3909d0b188e9c95311399f776e331da5</td>\n",
       "      <td>마법사(여)</td>\n",
       "      <td>HEADGEAR</td>\n",
       "      <td>모자 아바타</td>\n",
       "      <td>92d9839ad426f31e9de3508d001f84ca</td>\n",
       "      <td>레어 모자 클론 아바타</td>\n",
       "      <td>72747b638f523948042eb783d4704bc2</td>\n",
       "      <td>아사미야 아테나의 모자[E타입]</td>\n",
       "      <td>...</td>\n",
       "      <td>e16f404ee01406d159987f41abd99118</td>\n",
       "      <td>레어 무기 클론 아바타[40Lv]</td>\n",
       "      <td>0a67f9043419e9684ca9693a2735cd6f</td>\n",
       "      <td>샤이닝 크리스탈 비트</td>\n",
       "      <td>AURA_SKIN</td>\n",
       "      <td>오라 스킨 아바타</td>\n",
       "      <td>f99513274bbef4290a1379c223933338</td>\n",
       "      <td>조화가 무너진 기억</td>\n",
       "      <td>NaN</td>\n",
       "      <td>NaN</td>\n",
       "    </tr>\n",
       "    <tr>\n",
       "      <th>90598</th>\n",
       "      <td>9c068b798696f994d39b14a0840abb10</td>\n",
       "      <td>찌뮤</td>\n",
       "      <td>b9cb48777665de22c006fabaf9a560b3</td>\n",
       "      <td>아처</td>\n",
       "      <td>HEADGEAR</td>\n",
       "      <td>모자 아바타</td>\n",
       "      <td>2defdc2422ff3c61f5ac1af583e79459</td>\n",
       "      <td>레어 모자 클론 아바타</td>\n",
       "      <td>c5e50a3ea8f71aed447cb461a585c034</td>\n",
       "      <td>차원의 별자리 리본 베레모[E타입]</td>\n",
       "      <td>...</td>\n",
       "      <td>f17318c539c39d6b6505462c13acc733</td>\n",
       "      <td>레어 무기 클론 아바타[60Lv]</td>\n",
       "      <td>NaN</td>\n",
       "      <td>NaN</td>\n",
       "      <td>AURA_SKIN</td>\n",
       "      <td>오라 스킨 아바타</td>\n",
       "      <td>f99513274bbef4290a1379c223933338</td>\n",
       "      <td>조화가 무너진 기억</td>\n",
       "      <td>NaN</td>\n",
       "      <td>NaN</td>\n",
       "    </tr>\n",
       "    <tr>\n",
       "      <th>90599</th>\n",
       "      <td>cf4ac67a4cacec7f53a12b5115b48887</td>\n",
       "      <td>찬가망둥이</td>\n",
       "      <td>0c1b401bb09241570d364420b3ba3fd7</td>\n",
       "      <td>프리스트(여)</td>\n",
       "      <td>HEADGEAR</td>\n",
       "      <td>모자 아바타</td>\n",
       "      <td>4073653019b52f859d27c96265c0b0a3</td>\n",
       "      <td>레어 모자 클론 아바타</td>\n",
       "      <td>5c1ce6ce3322ef6051135ccac6eca7e1</td>\n",
       "      <td>황금상 대두 아바타</td>\n",
       "      <td>...</td>\n",
       "      <td>67c9b1b3d2605e8b50a58775ef0f05db</td>\n",
       "      <td>무기 클론 아바타</td>\n",
       "      <td>d7686c7644da98c18e4aeab47634fd1f</td>\n",
       "      <td>디멘션 아라드 여프리스트의 무기</td>\n",
       "      <td>AURA_SKIN</td>\n",
       "      <td>오라 스킨 아바타</td>\n",
       "      <td>f99513274bbef4290a1379c223933338</td>\n",
       "      <td>조화가 무너진 기억</td>\n",
       "      <td>NaN</td>\n",
       "      <td>NaN</td>\n",
       "    </tr>\n",
       "  </tbody>\n",
       "</table>\n",
       "<p>90600 rows × 76 columns</p>\n",
       "</div>"
      ],
      "text/plain": [
       "                            characterId characterName  \\\n",
       "0      150a23219a59e086e36db59028c06a50          헤롱카테   \n",
       "1      0daa8c49cae531262f966dd637008e30        민트크림소스   \n",
       "2      103e5c925e8a698e89abd4d68cce1d0e        스팅거타이거   \n",
       "3      3ba38c77f2868f34d910e362d0f4cae1          프라디지   \n",
       "4      79a62ecc85e602ae7f13b79b766aa2ee         금요일야근   \n",
       "...                                 ...           ...   \n",
       "90595  5c37706a64742ce164d02b06456ec3d9          윤아에용   \n",
       "90596  030f2b2ee126aec10bd0108c13b493c6         잿빛의시프   \n",
       "90597  c51246ee43ee7645995bdf8f2ee1a26f          저주거미   \n",
       "90598  9c068b798696f994d39b14a0840abb10            찌뮤   \n",
       "90599  cf4ac67a4cacec7f53a12b5115b48887         찬가망둥이   \n",
       "\n",
       "                                  jobId  jobName HEADGEAR__avatar_slotId  \\\n",
       "0      3909d0b188e9c95311399f776e331da5   마법사(여)                HEADGEAR   \n",
       "1      3909d0b188e9c95311399f776e331da5   마법사(여)                HEADGEAR   \n",
       "2      afdf3b989339de478e85b614d274d1ef    거너(남)                HEADGEAR   \n",
       "3      41f1cdc2ff58bb5fdc287be0db2a8df3   귀검사(남)                HEADGEAR   \n",
       "4      0c1b401bb09241570d364420b3ba3fd7  프리스트(여)                HEADGEAR   \n",
       "...                                 ...      ...                     ...   \n",
       "90595  a7a059ebe9e6054c0644b40ef316d6e9   격투가(여)                HEADGEAR   \n",
       "90596  41f1cdc2ff58bb5fdc287be0db2a8df3   귀검사(남)                HEADGEAR   \n",
       "90597  3909d0b188e9c95311399f776e331da5   마법사(여)                HEADGEAR   \n",
       "90598  b9cb48777665de22c006fabaf9a560b3       아처                HEADGEAR   \n",
       "90599  0c1b401bb09241570d364420b3ba3fd7  프리스트(여)                HEADGEAR   \n",
       "\n",
       "      HEADGEAR__avatar_slotName           HEADGEAR__avatar_itemId  \\\n",
       "0                        모자 아바타  aebd9700b2de7be3fc909f89f8cfffce   \n",
       "1                        모자 아바타  d73b5d96d17c84e54ff2a999658a4845   \n",
       "2                        모자 아바타  80c6a6b7b5c1ab32bb401dfadf76ace8   \n",
       "3                        모자 아바타  3bd48b7a41985ad02bd07ec91dcf04a8   \n",
       "4                        모자 아바타  4073653019b52f859d27c96265c0b0a3   \n",
       "...                         ...                               ...   \n",
       "90595                    모자 아바타  b8c1f046fe4fe0677f19195385d19b04   \n",
       "90596                    모자 아바타  3bd48b7a41985ad02bd07ec91dcf04a8   \n",
       "90597                    모자 아바타  92d9839ad426f31e9de3508d001f84ca   \n",
       "90598                    모자 아바타  2defdc2422ff3c61f5ac1af583e79459   \n",
       "90599                    모자 아바타  4073653019b52f859d27c96265c0b0a3   \n",
       "\n",
       "      HEADGEAR__avatar_itemName     HEADGEAR__avatar_clone_itemId  \\\n",
       "0                  레어 모자 클론 아바타  14d18062b175b136d7ef6f1db407f58d   \n",
       "1                  레어 모자 클론 아바타  9b676223df861e8932d01fa8be03dd6a   \n",
       "2                  레어 모자 클론 아바타  89f6c4947ec18a4b0aab705b0e93b3a1   \n",
       "3                  레어 모자 클론 아바타  995900bb5ded1b28e387a0e709572fae   \n",
       "4                  레어 모자 클론 아바타                               NaN   \n",
       "...                         ...                               ...   \n",
       "90595              레어 모자 클론 아바타  53d334dc1641cd3f4605908bcaa89960   \n",
       "90596              레어 모자 클론 아바타  711ee1f368e0e83f29d33f2b06bd4994   \n",
       "90597              레어 모자 클론 아바타  72747b638f523948042eb783d4704bc2   \n",
       "90598              레어 모자 클론 아바타  c5e50a3ea8f71aed447cb461a585c034   \n",
       "90599              레어 모자 클론 아바타  5c1ce6ce3322ef6051135ccac6eca7e1   \n",
       "\n",
       "      HEADGEAR__avatar_clone_itemName  ...             WEAPON__avatar_itemId  \\\n",
       "0                   던파스쿨 고양이 머리띠[A타입]  ...  e16f404ee01406d159987f41abd99118   \n",
       "1                   아라드 해변 리본 모자[C타입]  ...  6f664071d276072fdc25371252816989   \n",
       "2                     진 메카닉의 헤드폰[B타입]  ...  dd013289916783dddc5a90f378682e40   \n",
       "3                        부러진 악마의 블랙 혼  ...  7b0532818737be0b0e6f1e2c4042cf60   \n",
       "4                                 NaN  ...  f99c56e62fa39e93ec0f1fe793ccf05c   \n",
       "...                               ...  ...                               ...   \n",
       "90595             진 스트라이커의 거친 후드[A타입]  ...  5c94117f7b5b2232b776011cfa42579e   \n",
       "90596            야생의 사파리 사모예드의 탈[A타입]  ...  ccde39545f0f69b26e9f6b23f41751a0   \n",
       "90597               아사미야 아테나의 모자[E타입]  ...  e16f404ee01406d159987f41abd99118   \n",
       "90598             차원의 별자리 리본 베레모[E타입]  ...  f17318c539c39d6b6505462c13acc733   \n",
       "90599                      황금상 대두 아바타  ...  67c9b1b3d2605e8b50a58775ef0f05db   \n",
       "\n",
       "      WEAPON__avatar_itemName       WEAPON__avatar_clone_itemId  \\\n",
       "0          레어 무기 클론 아바타[40Lv]  e5f9d8f370765a3496f0b3ef189a0e7f   \n",
       "1          레어 무기 클론 아바타[75Lv]  f742d25f8e25513de703149cbd432e65   \n",
       "2          레어 무기 클론 아바타[80Lv]  d58731378b57cdcd957614255173424a   \n",
       "3          레어 무기 클론 아바타[75Lv]  a6f732dc2f3fa8ef24a420cca2ca5aa2   \n",
       "4          레어 무기 클론 아바타[45Lv]  6723b14653bc97f521e990439b3bad77   \n",
       "...                       ...                               ...   \n",
       "90595               무기 클론 아바타                               NaN   \n",
       "90596      레어 무기 클론 아바타[70Lv]                               NaN   \n",
       "90597      레어 무기 클론 아바타[40Lv]  0a67f9043419e9684ca9693a2735cd6f   \n",
       "90598      레어 무기 클론 아바타[60Lv]                               NaN   \n",
       "90599               무기 클론 아바타  d7686c7644da98c18e4aeab47634fd1f   \n",
       "\n",
       "      WEAPON__avatar_clone_itemName AURA_SKIN__avatar_slotId  \\\n",
       "0                            포식의 욕망                AURA_SKIN   \n",
       "1                         엘프 여왕의 정령                AURA_SKIN   \n",
       "2                     던전앤파이터 클래식 캐논                AURA_SKIN   \n",
       "3                           명도 후구도쿠                AURA_SKIN   \n",
       "4                      이면 1활 삼뢰의 포진                AURA_SKIN   \n",
       "...                             ...                      ...   \n",
       "90595                           NaN                      NaN   \n",
       "90596                           NaN                AURA_SKIN   \n",
       "90597                   샤이닝 크리스탈 비트                AURA_SKIN   \n",
       "90598                           NaN                AURA_SKIN   \n",
       "90599             디멘션 아라드 여프리스트의 무기                AURA_SKIN   \n",
       "\n",
       "      AURA_SKIN__avatar_slotName          AURA_SKIN__avatar_itemId  \\\n",
       "0                      오라 스킨 아바타  d1bb79f2380a3375cb7a473246053ffa   \n",
       "1                      오라 스킨 아바타  4754847cc0c85ffbcc6bd108e9207f6c   \n",
       "2                      오라 스킨 아바타  3baabfc239dd420d0b6673c7b1426391   \n",
       "3                      오라 스킨 아바타  025ff1f20ce27272539704aedb878ac1   \n",
       "4                      오라 스킨 아바타  f99513274bbef4290a1379c223933338   \n",
       "...                          ...                               ...   \n",
       "90595                        NaN                               NaN   \n",
       "90596                  오라 스킨 아바타  f99513274bbef4290a1379c223933338   \n",
       "90597                  오라 스킨 아바타  f99513274bbef4290a1379c223933338   \n",
       "90598                  오라 스킨 아바타  f99513274bbef4290a1379c223933338   \n",
       "90599                  오라 스킨 아바타  f99513274bbef4290a1379c223933338   \n",
       "\n",
       "      AURA_SKIN__avatar_itemName    AURA_SKIN__avatar_clone_itemId  \\\n",
       "0                       ★미쿠와 함께★                               NaN   \n",
       "1                  모험단 모션 오라 아바타  2fd6865377f6563035def5de26f489b7   \n",
       "2                       푸른빛 홀로그램                               NaN   \n",
       "3                         연옥의 불길                               NaN   \n",
       "4                     조화가 무너진 기억                               NaN   \n",
       "...                          ...                               ...   \n",
       "90595                        NaN                               NaN   \n",
       "90596                 조화가 무너진 기억                               NaN   \n",
       "90597                 조화가 무너진 기억                               NaN   \n",
       "90598                 조화가 무너진 기억                               NaN   \n",
       "90599                 조화가 무너진 기억                               NaN   \n",
       "\n",
       "      AURA_SKIN__avatar_clone_itemName  \n",
       "0                                  NaN  \n",
       "1                            해방된 요기 오라  \n",
       "2                                  NaN  \n",
       "3                                  NaN  \n",
       "4                                  NaN  \n",
       "...                                ...  \n",
       "90595                              NaN  \n",
       "90596                              NaN  \n",
       "90597                              NaN  \n",
       "90598                              NaN  \n",
       "90599                              NaN  \n",
       "\n",
       "[90600 rows x 76 columns]"
      ]
     },
     "execution_count": 87,
     "metadata": {},
     "output_type": "execute_result"
    }
   ],
   "source": [
    "data = data[columns]\n",
    "data"
   ]
  },
  {
   "cell_type": "code",
   "execution_count": 88,
   "metadata": {},
   "outputs": [],
   "source": [
    "df = pd.concat([data,user[['serverId','fame']]], axis=1)"
   ]
  },
  {
   "cell_type": "code",
   "execution_count": 89,
   "metadata": {},
   "outputs": [],
   "source": [
    "del user, data"
   ]
  },
  {
   "cell_type": "markdown",
   "metadata": {},
   "source": [
    "### 이상치 검색"
   ]
  },
  {
   "cell_type": "markdown",
   "metadata": {},
   "source": [
    "#### 1. characterName이 없는 데이터"
   ]
  },
  {
   "cell_type": "code",
   "execution_count": 64,
   "metadata": {},
   "outputs": [
    {
     "data": {
      "text/plain": [
       "2"
      ]
     },
     "execution_count": 64,
     "metadata": {},
     "output_type": "execute_result"
    }
   ],
   "source": [
    "df['characterName'].isnull().sum()"
   ]
  },
  {
   "cell_type": "code",
   "execution_count": 91,
   "metadata": {},
   "outputs": [
    {
     "data": {
      "text/plain": [
       "0"
      ]
     },
     "execution_count": 91,
     "metadata": {},
     "output_type": "execute_result"
    }
   ],
   "source": [
    "df['serverId'].isnull().sum()"
   ]
  },
  {
   "cell_type": "code",
   "execution_count": 92,
   "metadata": {},
   "outputs": [
    {
     "data": {
      "text/plain": [
       "2"
      ]
     },
     "execution_count": 92,
     "metadata": {},
     "output_type": "execute_result"
    }
   ],
   "source": [
    "df['characterName'].isnull().sum()"
   ]
  },
  {
   "cell_type": "code",
   "execution_count": 65,
   "metadata": {},
   "outputs": [
    {
     "name": "stderr",
     "output_type": "stream",
     "text": [
      " 22%|██▏       | 20182/90600 [00:57<03:16, 358.52it/s]"
     ]
    },
    {
     "name": "stdout",
     "output_type": "stream",
     "text": [
      "20141\n"
     ]
    },
    {
     "name": "stderr",
     "output_type": "stream",
     "text": [
      " 86%|████████▋ | 78300/90600 [03:40<00:34, 358.49it/s]"
     ]
    },
    {
     "name": "stdout",
     "output_type": "stream",
     "text": [
      "78245\n"
     ]
    },
    {
     "name": "stderr",
     "output_type": "stream",
     "text": [
      "100%|██████████| 90600/90600 [04:13<00:00, 357.74it/s]\n"
     ]
    }
   ],
   "source": [
    "for i in tqdm(range(len(df))):\n",
    "    if df['characterName'].isnull()[i]:\n",
    "        print(i)"
   ]
  },
  {
   "cell_type": "code",
   "execution_count": 90,
   "metadata": {},
   "outputs": [
    {
     "data": {
      "text/plain": [
       "characterId                           NaN\n",
       "characterName                         NaN\n",
       "jobId                                 NaN\n",
       "jobName                               NaN\n",
       "HEADGEAR__avatar_slotId               NaN\n",
       "                                    ...  \n",
       "AURA_SKIN__avatar_itemName            NaN\n",
       "AURA_SKIN__avatar_clone_itemId        NaN\n",
       "AURA_SKIN__avatar_clone_itemName      NaN\n",
       "serverId                             cain\n",
       "fame                                61963\n",
       "Name: 20141, Length: 78, dtype: object"
      ]
     },
     "execution_count": 90,
     "metadata": {},
     "output_type": "execute_result"
    }
   ],
   "source": [
    "df.iloc[20141,]"
   ]
  },
  {
   "cell_type": "code",
   "execution_count": 95,
   "metadata": {},
   "outputs": [
    {
     "data": {
      "text/plain": [
       "characterId                         1fd51627e5d6e46d15da14dcf2b0361b\n",
       "characterName                                                 이름뿐인리더\n",
       "jobId                               41f1cdc2ff58bb5fdc287be0db2a8df3\n",
       "jobName                                                       귀검사(남)\n",
       "HEADGEAR__avatar_slotId                                     HEADGEAR\n",
       "                                                  ...               \n",
       "AURA_SKIN__avatar_itemName                                조화가 무너진 기억\n",
       "AURA_SKIN__avatar_clone_itemId                                   NaN\n",
       "AURA_SKIN__avatar_clone_itemName                                 NaN\n",
       "serverId                                                        prey\n",
       "fame                                                           60619\n",
       "Name: 78247, Length: 78, dtype: object"
      ]
     },
     "execution_count": 95,
     "metadata": {},
     "output_type": "execute_result"
    }
   ],
   "source": [
    "df.iloc[78245,]"
   ]
  },
  {
   "cell_type": "code",
   "execution_count": 94,
   "metadata": {},
   "outputs": [],
   "source": [
    "df.drop([20141,78245], axis=0, inplace=True)"
   ]
  },
  {
   "cell_type": "markdown",
   "metadata": {},
   "source": [
    ">> api로 받아오는 과정 사이 캐릭터 삭제 추정 (2개) -> 데이터 삭제"
   ]
  },
  {
   "cell_type": "markdown",
   "metadata": {},
   "source": [
    "#### 2. 중복 데이터"
   ]
  },
  {
   "cell_type": "code",
   "execution_count": 96,
   "metadata": {},
   "outputs": [
    {
     "data": {
      "text/plain": [
       "9056"
      ]
     },
     "execution_count": 96,
     "metadata": {},
     "output_type": "execute_result"
    }
   ],
   "source": [
    "df.duplicated(['characterId']).sum()"
   ]
  },
  {
   "cell_type": "markdown",
   "metadata": {},
   "source": [
    "characterId가 같은데 서버가 다른 데이터 존재"
   ]
  },
  {
   "cell_type": "code",
   "execution_count": 98,
   "metadata": {},
   "outputs": [
    {
     "data": {
      "text/plain": [
       "9004"
      ]
     },
     "execution_count": 98,
     "metadata": {},
     "output_type": "execute_result"
    }
   ],
   "source": [
    "df.duplicated().sum()"
   ]
  },
  {
   "cell_type": "markdown",
   "metadata": {},
   "source": [
    "명성차이가 존재하고 나머지 칼럼은 동일한 경우 존재"
   ]
  },
  {
   "cell_type": "code",
   "execution_count": 97,
   "metadata": {},
   "outputs": [
    {
     "data": {
      "text/plain": [
       "9009"
      ]
     },
     "execution_count": 97,
     "metadata": {},
     "output_type": "execute_result"
    }
   ],
   "source": [
    "df.duplicated(['characterId', 'serverId']).sum()"
   ]
  },
  {
   "cell_type": "markdown",
   "metadata": {},
   "source": [
    "'characterId', 'serverId'을 기준으로 데이터 제거"
   ]
  },
  {
   "cell_type": "code",
   "execution_count": 99,
   "metadata": {},
   "outputs": [],
   "source": [
    "user_avatar_table = df.drop_duplicates(subset = ['characterId', 'serverId'] , keep = 'first' ,ignore_index = True)"
   ]
  },
  {
   "cell_type": "code",
   "execution_count": 102,
   "metadata": {},
   "outputs": [
    {
     "data": {
      "text/plain": [
       "0"
      ]
     },
     "execution_count": 102,
     "metadata": {},
     "output_type": "execute_result"
    }
   ],
   "source": [
    "user_avatar_table.duplicated().sum()"
   ]
  },
  {
   "cell_type": "markdown",
   "metadata": {},
   "source": [
    "### 직업별 df 분리\n",
    "- '다크나이트' 와 '귀검사(남)' , '크리에이터' 와 '마법사(여)' 는 아바타를 같은 것 사용\n",
    "- 오라는 직업 구분 없음\n"
   ]
  },
  {
   "cell_type": "code",
   "execution_count": 103,
   "metadata": {},
   "outputs": [
    {
     "data": {
      "text/plain": [
       "jobName\n",
       "거너(남)       5207\n",
       "거너(여)       3534\n",
       "격투가(남)      1973\n",
       "격투가(여)      5054\n",
       "귀검사(남)      8588\n",
       "귀검사(여)      9239\n",
       "나이트         2914\n",
       "다크나이트        503\n",
       "도적          2221\n",
       "마법사(남)      1978\n",
       "마법사(여)     11615\n",
       "마창사         1558\n",
       "아처         10601\n",
       "총검사         1929\n",
       "크리에이터        266\n",
       "프리스트(남)     5474\n",
       "프리스트(여)     8935\n",
       "Name: count, dtype: int64"
      ]
     },
     "execution_count": 103,
     "metadata": {},
     "output_type": "execute_result"
    }
   ],
   "source": [
    "jobdf = user_avatar_table['jobName'].value_counts()\n",
    "jobdf=jobdf.sort_index()\n",
    "jobdf"
   ]
  },
  {
   "cell_type": "markdown",
   "metadata": {},
   "source": [
    "#### 직업별 분포"
   ]
  },
  {
   "cell_type": "code",
   "execution_count": 113,
   "metadata": {},
   "outputs": [
    {
     "data": {
      "image/png": "[encoded data removed]",
      "text/plain": [
       "<Figure size 1200x400 with 1 Axes>"
      ]
     },
     "metadata": {},
     "output_type": "display_data"
    }
   ],
   "source": [
    "plt.figure(figsize=(12,4))\n",
    "# plt.bar(jobdf.index, jobdf.values)\n",
    "sns.barplot(data=jobdf, color = 'teal', alpha = 0.4)\n",
    "plt.rcParams['font.family'] ='Malgun Gothic'\n",
    "plt.rcParams['axes.unicode_minus'] =False\n",
    "plt.xticks(rotation=30)\n",
    "plt.show()"
   ]
  },
  {
   "cell_type": "markdown",
   "metadata": {},
   "source": [
    "여성 캐릭터의 비율이 높은 것으로 확인이 됨<br>\n",
    "여성 캐릭터의 아바타의 인기가 높다는 추정을 하여 추후 아바타의 거래량과 시세를 통해 인기의 척도를 확인할 예정"
   ]
  },
  {
   "cell_type": "markdown",
   "metadata": {},
   "source": [
    "#### 직업별 명성"
   ]
  },
  {
   "cell_type": "code",
   "execution_count": 105,
   "metadata": {},
   "outputs": [
    {
     "data": {
      "text/plain": [
       "61497.63079581806"
      ]
     },
     "execution_count": 105,
     "metadata": {},
     "output_type": "execute_result"
    }
   ],
   "source": [
    "user_avatar_table['fame'].mean()"
   ]
  },
  {
   "cell_type": "code",
   "execution_count": 106,
   "metadata": {},
   "outputs": [
    {
     "data": {
      "text/plain": [
       "jobName\n",
       "다크나이트      65938\n",
       "크리에이터      65954\n",
       "마법사(남)     66215\n",
       "총검사        66237\n",
       "마창사        66303\n",
       "격투가(남)     66305\n",
       "거너(여)      66317\n",
       "나이트        66382\n",
       "귀검사(여)     66386\n",
       "격투가(여)     66402\n",
       "프리스트(남)    66425\n",
       "도적         66430\n",
       "아처         66539\n",
       "프리스트(여)    66660\n",
       "귀검사(남)     66666\n",
       "거너(남)      66702\n",
       "마법사(여)     66993\n",
       "Name: fame, dtype: int64"
      ]
     },
     "execution_count": 106,
     "metadata": {},
     "output_type": "execute_result"
    }
   ],
   "source": [
    "user_avatar_table.groupby(\"jobName\")['fame'].max().sort_values()"
   ]
  },
  {
   "cell_type": "code",
   "execution_count": 107,
   "metadata": {},
   "outputs": [
    {
     "data": {
      "text/plain": [
       "jobName\n",
       "아처         61338.011320\n",
       "프리스트(여)    61403.726245\n",
       "마창사        61427.527599\n",
       "총검사        61454.269051\n",
       "프리스트(남)    61484.298502\n",
       "격투가(여)     61499.138702\n",
       "나이트        61502.678449\n",
       "귀검사(여)     61511.884078\n",
       "귀검사(남)     61539.501281\n",
       "마법사(남)     61541.129424\n",
       "마법사(여)     61542.595695\n",
       "거너(여)      61576.944539\n",
       "도적         61578.837461\n",
       "격투가(남)     61603.283832\n",
       "크리에이터      61662.488722\n",
       "거너(남)      61665.202036\n",
       "다크나이트      61675.759443\n",
       "Name: fame, dtype: float64"
      ]
     },
     "execution_count": 107,
     "metadata": {},
     "output_type": "execute_result"
    }
   ],
   "source": [
    "user_avatar_table.groupby(\"jobName\")['fame'].mean().sort_values()"
   ]
  },
  {
   "cell_type": "code",
   "execution_count": 116,
   "metadata": {},
   "outputs": [
    {
     "name": "stderr",
     "output_type": "stream",
     "text": [
      "C:\\Users\\Administrator\\AppData\\Local\\Temp\\ipykernel_15120\\785365589.py:2: FutureWarning: \n",
      "\n",
      "Passing `palette` without assigning `hue` is deprecated and will be removed in v0.14.0. Assign the `x` variable to `hue` and set `legend=False` for the same effect.\n",
      "\n",
      "  sns.boxplot(data=user_avatar_table.sort_values(by='jobName' ,ascending=True), x='jobName', y='fame', palette = 'Set3')\n"
     ]
    },
    {
     "data": {
      "image/png": "[encoded data removed]",
      "text/plain": [
       "<Figure size 1200x400 with 1 Axes>"
      ]
     },
     "metadata": {},
     "output_type": "display_data"
    }
   ],
   "source": [
    "plt.figure(figsize=(12,4))\n",
    "sns.boxplot(data=user_avatar_table.sort_values(by='jobName' ,ascending=True), x='jobName', y='fame', palette = 'Set3')\n",
    "plt.xticks(rotation=30)\n",
    "plt.show()"
   ]
  },
  {
   "cell_type": "markdown",
   "metadata": {},
   "source": [
    "중간값과 25%~75%의 값들은 상대적으로 비슷한 수준을 띄고 있으나 최댓값들의 차이가 존재함을 알 수 있음</br>\n",
    "유저 수가 적은 직업들의 명성 최댓값이 높은 것을 확인 할 수 있음</br>\n"
   ]
  },
  {
   "cell_type": "code",
   "execution_count": 117,
   "metadata": {},
   "outputs": [],
   "source": [
    "joblist = list(df['jobName'].unique())\n"
   ]
  },
  {
   "cell_type": "markdown",
   "metadata": {},
   "source": [
    "거너(남) : GunnerM</br>\n",
    "거너(여) : GunnerW</br>\n",
    "격투가(남) : FighterM</br>\n",
    "격투가(여) : FighterW</br>\n",
    "귀검사(남) : Ghost KnightM</br>\n",
    "귀검사(여) : Ghost KnightW</br>\n",
    "나이트 : Knight</br>\n",
    "다크나이트 : Dark Knight</br>\n",
    "도적 : Thief</br>\n",
    "마법사(남) : MageM</br>\n",
    "마법사(여) : MageW</br>\n",
    "마창사 : Demonic Lancer</br>\n",
    "아처 : Archer</br>\n",
    "총검사 : Gunblader</br>\n",
    "크리에이터 : Creator</br>\n",
    "프리스트(남) : PriestM</br>\n",
    "프리스트(여) : PriestW</br>"
   ]
  },
  {
   "cell_type": "code",
   "execution_count": 119,
   "metadata": {},
   "outputs": [],
   "source": [
    "GunnerM = user_avatar_table[user_avatar_table['jobName']=='거너(남)']\n",
    "GunnerW = user_avatar_table[user_avatar_table['jobName']=='거너(여)']\n",
    "FighterM = user_avatar_table[user_avatar_table['jobName']=='격투가(남)']\n",
    "FighterW = user_avatar_table[user_avatar_table['jobName']=='격투가(여)']\n",
    "GhostknightM = user_avatar_table[user_avatar_table['jobName']=='귀검사(남)']\n",
    "GhostknightW = user_avatar_table[user_avatar_table['jobName']=='귀검사(여)']\n",
    "Knight = user_avatar_table[user_avatar_table['jobName']=='나이트']\n",
    "Darkknight = user_avatar_table[user_avatar_table['jobName']=='다크나이트']\n",
    "Thief = user_avatar_table[user_avatar_table['jobName']=='도적']\n",
    "MageM = user_avatar_table[user_avatar_table['jobName']=='마법사(남)']\n",
    "MageW = user_avatar_table[user_avatar_table['jobName']=='마법사(여)']\n",
    "Demoniclancer = user_avatar_table[user_avatar_table['jobName']=='마창사']\n",
    "Archer = user_avatar_table[user_avatar_table['jobName']=='아처']\n",
    "Gunblader = user_avatar_table[user_avatar_table['jobName']=='총검사']\n",
    "Creator = user_avatar_table[user_avatar_table['jobName']=='크리에이터']\n",
    "PriestM = user_avatar_table[user_avatar_table['jobName']=='프리스트(남)']\n",
    "PriestW = user_avatar_table[user_avatar_table['jobName']=='프리스트(여)']"
   ]
  },
  {
   "cell_type": "code",
   "execution_count": 77,
   "metadata": {},
   "outputs": [],
   "source": [
    "a=\"GunnerM,GunnerW,FighterM,FighterW,GhostknightM,GhostknightW,Knight,Darkknight,Thief,MageM,MageW,Demoniclancer,Archer,Gunblader,Creator,PriestM,PriestW\"\n",
    "jobname = a.split(\",\")"
   ]
  },
  {
   "cell_type": "code",
   "execution_count": 78,
   "metadata": {},
   "outputs": [
    {
     "data": {
      "text/plain": [
       "['GunnerM',\n",
       " 'GunnerW',\n",
       " 'FighterM',\n",
       " 'FighterW',\n",
       " 'GhostknightM',\n",
       " 'GhostknightW',\n",
       " 'Knight',\n",
       " 'Darkknight',\n",
       " 'Thief',\n",
       " 'MageM',\n",
       " 'MageW',\n",
       " 'Demoniclancer',\n",
       " 'Archer',\n",
       " 'Gunblader',\n",
       " 'Creator',\n",
       " 'PriestM',\n",
       " 'PriestW']"
      ]
     },
     "execution_count": 78,
     "metadata": {},
     "output_type": "execute_result"
    }
   ],
   "source": [
    "jobname"
   ]
  },
  {
   "cell_type": "code",
   "execution_count": 76,
   "metadata": {},
   "outputs": [],
   "source": [
    "jobdf_list = [GunnerM,\n",
    "GunnerW,\n",
    "FighterM,\n",
    "FighterW,\n",
    "GhostknightM,\n",
    "GhostknightW,\n",
    "Knight,\n",
    "Darkknight,\n",
    "Thief,\n",
    "MageM,\n",
    "MageW,\n",
    "Demoniclancer,\n",
    "Archer,\n",
    "Gunblader,\n",
    "Creator,\n",
    "PriestM,\n",
    "PriestW,]"
   ]
  },
  {
   "cell_type": "markdown",
   "metadata": {},
   "source": [
    "### 유저가 착용 중인 아이템 확인"
   ]
  },
  {
   "cell_type": "code",
   "execution_count": 80,
   "metadata": {},
   "outputs": [
    {
     "data": {
      "text/plain": [
       "Index(['2defdc2422ff3c61f5ac1af583e79459', '92d9839ad426f31e9de3508d001f84ca',\n",
       "       '4073653019b52f859d27c96265c0b0a3', 'c90044ec63bf1520c5bc4a9385ff466d',\n",
       "       '3bd48b7a41985ad02bd07ec91dcf04a8', 'b8c1f046fe4fe0677f19195385d19b04',\n",
       "       '80c6a6b7b5c1ab32bb401dfadf76ace8', 'b8719abf78adc19335324f5a36f5987c',\n",
       "       'c8032d3f73fee655c33b30444ddd1eaa', '851f5dae01e9ed0597e533cd78700f00',\n",
       "       ...\n",
       "       'f76b941c0987e0de56117287ce33d45d', '6996eec45d98d7e165f4cd9524adc34a',\n",
       "       '27acdd98f35020c744eb046aea20099c', '760540ccbcfe523bd263b64b9405b87b',\n",
       "       '3c2eaa4f26d8e8a5417c9a4facd256b6', '04e2f6736e60cba84eb7b5e243f4996c',\n",
       "       '5da9726e0af825587b53165d4f798feb', '0dccbc01bf82e6fe94fb9349874591e3',\n",
       "       'f0a36e1ed531243c2bc177edb6bfd009', '1e9711921844b0934ab0304dd49335ed'],\n",
       "      dtype='object', name='HEADGEAR__avatar_itemId', length=656)"
      ]
     },
     "execution_count": 80,
     "metadata": {},
     "output_type": "execute_result"
    }
   ],
   "source": [
    "data['HEADGEAR__avatar_itemId'].value_counts().index"
   ]
  },
  {
   "cell_type": "code",
   "execution_count": 81,
   "metadata": {},
   "outputs": [
    {
     "data": {
      "text/plain": [
       "HEADGEAR__avatar_itemName\n",
       "레어 모자 클론 아바타                84177\n",
       "주황색 제복모                       306\n",
       "신성한 은여우 전사의 투구                275\n",
       "검은색 악마뿔                       207\n",
       "블랙크로우 투구                      147\n",
       "                            ...  \n",
       "노블레스 화이트 크로스 투구                 1\n",
       "원탁의 기사 아서왕의 실버 왕관[C타입]          1\n",
       "우아한 나비 숙녀의 나비 헤어 장식[E타입]        1\n",
       "반투 얼음조각 장식                      1\n",
       "진 디멘션워커의 무늬 타투[B타입]             1\n",
       "Name: count, Length: 439, dtype: int64"
      ]
     },
     "execution_count": 81,
     "metadata": {},
     "output_type": "execute_result"
    }
   ],
   "source": [
    "data['HEADGEAR__avatar_itemName'].value_counts()"
   ]
  },
  {
   "cell_type": "code",
   "execution_count": 79,
   "metadata": {},
   "outputs": [
    {
     "name": "stdout",
     "output_type": "stream",
     "text": [
      "GunnerM\n",
      "53\n",
      "40\n",
      "GunnerW\n",
      "38\n",
      "29\n",
      "FighterM\n",
      "36\n",
      "29\n",
      "FighterW\n",
      "47\n",
      "34\n",
      "GhostknightM\n",
      "70\n",
      "51\n",
      "GhostknightW\n",
      "42\n",
      "33\n",
      "Knight\n",
      "30\n",
      "25\n",
      "Darkknight\n",
      "23\n",
      "19\n",
      "Thief\n",
      "28\n",
      "24\n",
      "MageM\n",
      "38\n",
      "33\n",
      "MageW\n",
      "82\n",
      "67\n",
      "Demoniclancer\n",
      "25\n",
      "20\n",
      "Archer\n",
      "17\n",
      "15\n",
      "Gunblader\n",
      "18\n",
      "14\n",
      "Creator\n",
      "22\n",
      "19\n",
      "PriestM\n",
      "71\n",
      "57\n",
      "PriestW\n",
      "61\n",
      "53\n"
     ]
    }
   ],
   "source": [
    "for i in range(len(jobdf_list)):\n",
    "    print(jobname[i])\n",
    "    print(len(jobdf_list[i]['HEADGEAR__avatar_itemId'].value_counts().index))\n",
    "    print(len(jobdf_list[i]['HEADGEAR__avatar_itemName'].value_counts()))"
   ]
  },
  {
   "cell_type": "code",
   "execution_count": null,
   "metadata": {},
   "outputs": [],
   "source": []
  },
  {
   "cell_type": "markdown",
   "metadata": {},
   "source": [
    ">> itemName이 같지만 itemId가 다른 경우가 존재"
   ]
  }
 ],
 "metadata": {
  "kernelspec": {
   "display_name": "Python 3",
   "language": "python",
   "name": "python3"
  },
  "language_info": {
   "codemirror_mode": {
    "name": "ipython",
    "version": 3
   },
   "file_extension": ".py",
   "mimetype": "text/x-python",
   "name": "python",
   "nbconvert_exporter": "python",
   "pygments_lexer": "ipython3",
   "version": "3.10.11"
  }
 },
 "nbformat": 4,
 "nbformat_minor": 2
}
